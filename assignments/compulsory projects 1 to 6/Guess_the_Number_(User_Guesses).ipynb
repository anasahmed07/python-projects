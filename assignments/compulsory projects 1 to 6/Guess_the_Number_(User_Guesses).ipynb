{
  "cells": [
    {
      "cell_type": "markdown",
      "metadata": {
        "id": "rlZFnLpbDtPP"
      },
      "source": [
        "# Guess the Number Game\n",
        "\n",
        "This Python program allows the user to guess a randomly generated number between 1 and 100.\n"
      ]
    },
    {
      "cell_type": "code",
      "execution_count": null,
      "metadata": {
        "id": "b3FgMD3hDQQo"
      },
      "outputs": [],
      "source": [
        "import random"
      ]
    },
    {
      "cell_type": "markdown",
      "metadata": {
        "id": "BcxfsrBmEYVE"
      },
      "source": [
        "### Function to Generate a Random Number"
      ]
    },
    {
      "cell_type": "code",
      "execution_count": null,
      "metadata": {
        "id": "z1GDKzVoDZpK"
      },
      "outputs": [],
      "source": [
        "def generate_number():\n",
        "    \"\"\"Generates a random number between 1 and 100.\"\"\"\n",
        "    return random.randint(1, 100)"
      ]
    },
    {
      "cell_type": "markdown",
      "metadata": {
        "id": "Gz_Jnm2ZFbeL"
      },
      "source": [
        "### Function to Get User Input"
      ]
    },
    {
      "cell_type": "code",
      "execution_count": null,
      "metadata": {
        "id": "tDrv1mFVDZ4f"
      },
      "outputs": [],
      "source": [
        "def get_user_guess():\n",
        "    \"\"\"Prompts the user for a guess and returns it as an integer.\"\"\"\n",
        "    return int(input(\"Enter your guess: \"))"
      ]
    },
    {
      "cell_type": "markdown",
      "metadata": {
        "id": "DDRaipj7FhOH"
      },
      "source": [
        "### Function to Provide Feedback\n"
      ]
    },
    {
      "cell_type": "code",
      "execution_count": null,
      "metadata": {
        "id": "PLoiSHh5DpcU"
      },
      "outputs": [],
      "source": [
        "def give_feedback(guess, number):\n",
        "    \"\"\"Provides feedback on whether the guess is too low, too high, or correct.\"\"\"\n",
        "    if guess < number:\n",
        "        print(\"Too low! Try again.\")\n",
        "    elif guess > number:\n",
        "        print(\"Too high! Try again.\")\n",
        "    else:\n",
        "        print(\"Congratulations! You guessed the number.\")"
      ]
    },
    {
      "cell_type": "markdown",
      "metadata": {
        "id": "a-B2kYnvFpRo"
      },
      "source": [
        "### Main Game Loop"
      ]
    },
    {
      "cell_type": "code",
      "execution_count": null,
      "metadata": {
        "id": "0w3UNO5-FA2H"
      },
      "outputs": [],
      "source": [
        "def play_game():\n",
        "    \"\"\"Runs the guessing game loop.\"\"\"\n",
        "    number = generate_number()\n",
        "    guess = None\n",
        "\n",
        "    print(\"Guess a number between 1 and 100!\")\n",
        "\n",
        "    while guess != number:\n",
        "        guess = get_user_guess()\n",
        "        give_feedback(guess, number)"
      ]
    },
    {
      "cell_type": "markdown",
      "metadata": {
        "id": "_NyZZJsfFrHA"
      },
      "source": [
        "### Running the Game"
      ]
    },
    {
      "cell_type": "code",
      "execution_count": null,
      "metadata": {
        "colab": {
          "base_uri": "https://localhost:8080/"
        },
        "id": "tzVSYA2DFQ3D",
        "outputId": "3202d0d4-197f-46f6-f634-1b20490308e8"
      },
      "outputs": [
        {
          "name": "stdout",
          "output_type": "stream",
          "text": [
            "Guess a number between 1 and 100!\n",
            "Enter your guess: 23\n",
            "Too low! Try again.\n",
            "Enter your guess: 66\n",
            "Too high! Try again.\n",
            "Enter your guess: 44\n",
            "Too low! Try again.\n",
            "Enter your guess: 56\n",
            "Too low! Try again.\n",
            "Enter your guess: 58\n",
            "Too low! Try again.\n",
            "Enter your guess: 62\n",
            "Too high! Try again.\n",
            "Enter your guess: 60\n",
            "Too high! Try again.\n",
            "Enter your guess: 59\n",
            "Congratulations! You guessed the number.\n"
          ]
        }
      ],
      "source": [
        "if __name__ == \"__main__\":\n",
        "    play_game()"
      ]
    }
  ],
  "metadata": {
    "colab": {
      "authorship_tag": "ABX9TyPKEwpHZyzemKerd7IrwjgY",
      "include_colab_link": true,
      "provenance": []
    },
    "kernelspec": {
      "display_name": "Python 3",
      "name": "python3"
    },
    "language_info": {
      "name": "python"
    }
  },
  "nbformat": 4,
  "nbformat_minor": 0
}
