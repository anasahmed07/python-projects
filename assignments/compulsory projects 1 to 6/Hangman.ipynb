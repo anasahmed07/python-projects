{
  "cells": [
    {
      "cell_type": "markdown",
      "metadata": {
        "id": "OerGP2PQRRGB"
      },
      "source": [
        "# Hangman Game\n",
        "\n",
        "This program lets the user play a simple **Hangman** game by guessing letters in a randomly chosen word.\n",
        "\n"
      ]
    },
    {
      "cell_type": "code",
      "execution_count": null,
      "metadata": {
        "id": "cL439hAkSHx3"
      },
      "outputs": [],
      "source": [
        "import random"
      ]
    },
    {
      "cell_type": "markdown",
      "metadata": {
        "id": "4PR3M1fjRcCV"
      },
      "source": [
        "### Initializing Game Variables"
      ]
    },
    {
      "cell_type": "code",
      "execution_count": null,
      "metadata": {
        "id": "B2UJyhHbRPbp"
      },
      "outputs": [],
      "source": [
        "words = [\"python\", \"hangman\", \"programming\", \"developer\"]\n",
        "word = random.choice(words)\n",
        "guessed = [\"_\"] * len(word)\n",
        "attempts = 6\n"
      ]
    },
    {
      "cell_type": "markdown",
      "metadata": {
        "id": "FEqb4EqBRfgS"
      },
      "source": [
        "### Displaying Initial Word State"
      ]
    },
    {
      "cell_type": "code",
      "execution_count": null,
      "metadata": {
        "colab": {
          "base_uri": "https://localhost:8080/"
        },
        "id": "KYZ37is7Roee",
        "outputId": "afe4169d-ff06-4ac2-e945-fc3746293d9b"
      },
      "outputs": [
        {
          "name": "stdout",
          "output_type": "stream",
          "text": [
            "_ _ _ _ _ _ _ _ _\n"
          ]
        }
      ],
      "source": [
        "print(\" \".join(guessed))\n"
      ]
    },
    {
      "cell_type": "markdown",
      "metadata": {
        "id": "Kp2ibr5BRsbU"
      },
      "source": [
        "### Game Loop"
      ]
    },
    {
      "cell_type": "code",
      "execution_count": null,
      "metadata": {
        "colab": {
          "base_uri": "https://localhost:8080/"
        },
        "id": "ryv219AyRvtB",
        "outputId": "4db16cb6-45fd-483d-aacf-e1b095ff8210"
      },
      "outputs": [
        {
          "name": "stdout",
          "output_type": "stream",
          "text": [
            "Guess a letter: a\n",
            "Wrong! Attempts left: 5\n",
            "_ _ _ _ _ _ _ _ _\n",
            "Guess a letter: u\n",
            "Wrong! Attempts left: 4\n",
            "_ _ _ _ _ _ _ _ _\n",
            "Guess a letter: e\n",
            "_ e _ e _ _ _ e _\n",
            "Guess a letter: d\n",
            "d e _ e _ _ _ e _\n",
            "Guess a letter: l\n",
            "d e _ e l _ _ e _\n",
            "Guess a letter: r\n",
            "d e _ e l _ _ e r\n",
            "Guess a letter: g\n",
            "Wrong! Attempts left: 3\n",
            "d e _ e l _ _ e r\n",
            "Guess a letter: l\n",
            "d e _ e l _ _ e r\n",
            "Guess a letter: j\n",
            "Wrong! Attempts left: 2\n",
            "d e _ e l _ _ e r\n",
            "Guess a letter: v\n",
            "d e v e l _ _ e r\n",
            "Guess a letter: o\n",
            "d e v e l o _ e r\n",
            "Guess a letter: p\n",
            "d e v e l o p e r\n"
          ]
        }
      ],
      "source": [
        "while attempts > 0 and \"_\" in guessed:\n",
        "    letter = input(\"Guess a letter: \").lower()\n",
        "\n",
        "    if letter in word:\n",
        "        for i, char in enumerate(word):\n",
        "            if char == letter:\n",
        "                guessed[i] = letter\n",
        "    else:\n",
        "        attempts -= 1\n",
        "        print(f\"Wrong! Attempts left: {attempts}\")\n",
        "\n",
        "    print(\" \".join(guessed))\n"
      ]
    },
    {
      "cell_type": "markdown",
      "metadata": {
        "id": "QsHJZE3LRyWj"
      },
      "source": [
        "### Checking Win or Loss"
      ]
    },
    {
      "cell_type": "code",
      "execution_count": null,
      "metadata": {
        "colab": {
          "base_uri": "https://localhost:8080/"
        },
        "id": "i-rFa0EvR1i7",
        "outputId": "f874e924-02af-4310-e307-78d330361099"
      },
      "outputs": [
        {
          "name": "stdout",
          "output_type": "stream",
          "text": [
            "You won!\n"
          ]
        }
      ],
      "source": [
        "if \"_\" not in guessed:\n",
        "    print(\"You won!\")\n",
        "else:\n",
        "    print(f\"You lost! The word was {word}.\")\n"
      ]
    }
  ],
  "metadata": {
    "colab": {
      "authorship_tag": "ABX9TyMO1HwoTw/fnQb3PTNp8ocm",
      "include_colab_link": true,
      "provenance": []
    },
    "kernelspec": {
      "display_name": "Python 3",
      "name": "python3"
    },
    "language_info": {
      "name": "python"
    }
  },
  "nbformat": 4,
  "nbformat_minor": 0
}
