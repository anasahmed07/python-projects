{
  "cells": [
    {
      "cell_type": "markdown",
      "metadata": {
        "id": "rK9Tmbu7O4h4"
      },
      "source": [
        "# Rock-Paper-Scissors Game\n",
        "\n",
        "This program allows the user to play **Rock-Paper-Scissors** against the computer.\n",
        "\n",
        "\n"
      ]
    },
    {
      "cell_type": "markdown",
      "metadata": {
        "id": "gRj1rXNFPFG2"
      },
      "source": [
        "The `random` module is used to allow the computer to randomly select rock, paper, or scissors."
      ]
    },
    {
      "cell_type": "code",
      "execution_count": null,
      "metadata": {
        "id": "duDU_AdfPtB3"
      },
      "outputs": [],
      "source": [
        "import random"
      ]
    },
    {
      "cell_type": "markdown",
      "metadata": {
        "id": "B6mxuCR2PIy9"
      },
      "source": [
        "### Defining Choices"
      ]
    },
    {
      "cell_type": "code",
      "execution_count": null,
      "metadata": {
        "id": "ZFl7nOIPNYLM"
      },
      "outputs": [],
      "source": [
        "choices = [\"rock\", \"paper\", \"scissors\"]\n"
      ]
    },
    {
      "cell_type": "markdown",
      "metadata": {
        "id": "MaUrX9CcPM7D"
      },
      "source": [
        "### Getting User Input"
      ]
    },
    {
      "cell_type": "code",
      "execution_count": null,
      "metadata": {
        "colab": {
          "base_uri": "https://localhost:8080/"
        },
        "id": "LIjXTndcPT3D",
        "outputId": "2ecb07a0-fc42-43cf-d974-5363d8f12a61"
      },
      "outputs": [
        {
          "name": "stdout",
          "output_type": "stream",
          "text": [
            "Choose rock, paper, or scissors: paper\n"
          ]
        }
      ],
      "source": [
        "user_choice = input(\"Choose rock, paper, or scissors: \").lower()\n"
      ]
    },
    {
      "cell_type": "markdown",
      "metadata": {
        "id": "RDfBY78nPV9g"
      },
      "source": [
        "### Computer's Random Choice\n",
        "\n",
        "\n"
      ]
    },
    {
      "cell_type": "code",
      "execution_count": null,
      "metadata": {
        "id": "EwiaXuAUPbT3"
      },
      "outputs": [],
      "source": [
        "computer_choice = random.choice(choices)\n"
      ]
    },
    {
      "cell_type": "markdown",
      "metadata": {
        "id": "rGIvviCMPeh8"
      },
      "source": [
        "### Displaying Computer's Choice"
      ]
    },
    {
      "cell_type": "code",
      "execution_count": null,
      "metadata": {
        "colab": {
          "base_uri": "https://localhost:8080/"
        },
        "id": "RWmUfLxePfsu",
        "outputId": "b2a038cf-4e37-495e-9499-f2b4b4f5d5b6"
      },
      "outputs": [
        {
          "name": "stdout",
          "output_type": "stream",
          "text": [
            "Computer chose: scissors\n"
          ]
        }
      ],
      "source": [
        "print(f\"Computer chose: {computer_choice}\")\n"
      ]
    },
    {
      "cell_type": "markdown",
      "metadata": {
        "id": "KbQCL_ZUPi0J"
      },
      "source": [
        "### Determining the Winner"
      ]
    },
    {
      "cell_type": "code",
      "execution_count": null,
      "metadata": {
        "colab": {
          "base_uri": "https://localhost:8080/"
        },
        "id": "3IBSpaCyPiD_",
        "outputId": "127a72e0-30a5-499a-e630-58b9545e67bd"
      },
      "outputs": [
        {
          "name": "stdout",
          "output_type": "stream",
          "text": [
            "You lose!\n"
          ]
        }
      ],
      "source": [
        "if user_choice == computer_choice:\n",
        "    print(\"It's a tie!\")\n",
        "elif (user_choice == \"rock\" and computer_choice == \"scissors\") or \\\n",
        "     (user_choice == \"scissors\" and computer_choice == \"paper\") or \\\n",
        "     (user_choice == \"paper\" and computer_choice == \"rock\"):\n",
        "    print(\"You win!\")\n",
        "else:\n",
        "    print(\"You lose!\")\n"
      ]
    }
  ],
  "metadata": {
    "colab": {
      "authorship_tag": "ABX9TyO4Kb8L4jDTr4UURjMR2HvJ",
      "include_colab_link": true,
      "provenance": []
    },
    "kernelspec": {
      "display_name": "Python 3",
      "name": "python3"
    },
    "language_info": {
      "name": "python"
    }
  },
  "nbformat": 4,
  "nbformat_minor": 0
}
