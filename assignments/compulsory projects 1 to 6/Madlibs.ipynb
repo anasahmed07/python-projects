{
  "cells": [
    {
      "cell_type": "code",
      "execution_count": 2,
      "metadata": {
        "id": "YvbQt2IHfi-C"
      },
      "outputs": [],
      "source": [
        "from datetime import datetime"
      ]
    },
    {
      "cell_type": "markdown",
      "metadata": {
        "id": "n6NSeCzAgJt7"
      },
      "source": [
        "## Function for Saving user's story in his own named file\n"
      ]
    },
    {
      "cell_type": "code",
      "execution_count": 3,
      "metadata": {
        "id": "I1mpPU04gGpz"
      },
      "outputs": [],
      "source": [
        "def print_n_save_story(story):\n",
        "    # Display the completed story\n",
        "    print(\"\\nHere's your Mad Libs story:\")\n",
        "    print('\\n',story)\n",
        "\n",
        "    # Save the story to a file\n",
        "    filename = f'{username}\\'s story.txt'\n",
        "    with open(filename, 'a+') as file:\n",
        "        current_datetime = datetime.now().strftime('%Y-%m-%d %H:%M:%S')\n",
        "        file.seek(0)\n",
        "        file.write(f'\\n\\n{current_datetime}\\n')\n",
        "        file.write(story)\n",
        "        file.write('*'*50)\n",
        "        file.write('\\n')"
      ]
    },
    {
      "cell_type": "markdown",
      "metadata": {
        "id": "_OmSGURGgaje"
      },
      "source": [
        "# Main < code >\n",
        "## Taking User Input & Making Descision"
      ]
    },
    {
      "cell_type": "code",
      "execution_count": 5,
      "metadata": {
        "colab": {
          "base_uri": "https://localhost:8080/"
        },
        "id": "Keh-fWg0gWhD",
        "outputId": "b2438fa8-c293-4c3c-d4f2-8f9dffd81aee"
      },
      "outputs": [
        {
          "name": "stdout",
          "output_type": "stream",
          "text": [
            "Welcome to the Mad libs game!\n",
            "\n",
            "\n",
            "Hello, anas!\n",
            "\n",
            "Please fill in the blanks below: \n",
            "\n",
            "\n",
            "\n",
            "Here's your Mad Libs story:\n",
            "\n",
            " \n",
            "    At the resturant, a adj cat was seen balancing on a catoo.\n",
            "    It suddenly decided to eat, which made the crowd happy.\n",
            "    I done to capture the moment—it was a captivating experience!\n",
            "    \n"
          ]
        }
      ],
      "source": [
        "print('Welcome to the Mad libs game!\\n')\n",
        "username = input('What is your name? ')\n",
        "print()\n",
        "print('Hello, ' + username + '!\\n')\n",
        "print('Please fill in the blanks below: \\n')\n",
        "# Collecting user inputs\n",
        "place = input(\"Enter a place: \")\n",
        "adjective = input(\"Enter an adjective: \")\n",
        "animal = input(\"Enter an animal: \")\n",
        "noun = input(\"Enter a noun: \")\n",
        "verb = input(\"Enter a verb: \")\n",
        "emotion = input(\"Enter an emotion (e.g., laugh, cry): \")\n",
        "past_verb = input(\"Enter a past-tense verb: \")\n",
        "adjective2 = input(\"Enter another adjective: \")\n",
        "\n",
        "\n",
        "print()\n",
        "option = input('Which story do u want to choose? \\n1. Story 1\\n2. Story 2\\n3. Story 3\\n')\n",
        "if option == '1':\n",
        "    story1 = f\"\"\"\n",
        "    Today, I went to the {place}. I saw a {adjective} {animal} jumping over a {noun}.\n",
        "    It {verb} loudly, making everyone {emotion}. Then, I {past_verb} back home, thinking about the {adjective2} day I had.\n",
        "    \"\"\"\n",
        "    print_n_save_story(story1)\n",
        "elif option == '2':\n",
        "    story2 = f\"\"\"\n",
        "    Yesterday, I went to the {place} and saw a {adjective} {animal}.\n",
        "    It was sitting on a {noun} and {verb} loudly. Everyone around was so {emotion}.\n",
        "    I {past_verb} away as quickly as I could, but it was truly a {adjective2} sight!\n",
        "    \"\"\"\n",
        "    print_n_save_story(story2)\n",
        "elif option == '3':\n",
        "    story3 = f\"\"\"\n",
        "    At the {place}, a {adjective} {animal} was seen balancing on a {noun}.\n",
        "    It suddenly decided to {verb}, which made the crowd {emotion}.\n",
        "    I {past_verb} to capture the moment—it was a {adjective2} experience!\n",
        "    \"\"\"\n",
        "    print_n_save_story(story3)\n"
      ]
    }
  ],
  "metadata": {
    "colab": {
      "authorship_tag": "ABX9TyM4l2oVNu7H/kRKDy4+bys0",
      "include_colab_link": true,
      "provenance": []
    },
    "kernelspec": {
      "display_name": "Python 3",
      "name": "python3"
    },
    "language_info": {
      "codemirror_mode": {
        "name": "ipython",
        "version": 3
      },
      "file_extension": ".py",
      "mimetype": "text/x-python",
      "name": "python",
      "nbconvert_exporter": "python",
      "pygments_lexer": "ipython3",
      "version": "3.11.9"
    }
  },
  "nbformat": 4,
  "nbformat_minor": 0
}
