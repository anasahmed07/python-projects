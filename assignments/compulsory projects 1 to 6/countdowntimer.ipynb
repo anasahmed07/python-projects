{
  "cells": [
    {
      "cell_type": "code",
      "execution_count": null,
      "metadata": {
        "id": "u39JPwphBhlo"
      },
      "outputs": [],
      "source": [
        "import time"
      ]
    },
    {
      "cell_type": "markdown",
      "metadata": {
        "id": "RwUrczoLCQiE"
      },
      "source": [
        "### Get the duration from the user:"
      ]
    },
    {
      "cell_type": "code",
      "execution_count": null,
      "metadata": {
        "colab": {
          "base_uri": "https://localhost:8080/"
        },
        "id": "U5CWMqFUCcwB",
        "outputId": "25d97fe7-89ae-47ba-b231-011357e174f3"
      },
      "outputs": [
        {
          "name": "stdout",
          "output_type": "stream",
          "text": [
            "Enter the duration in seconds: 10\n"
          ]
        }
      ],
      "source": [
        "duration = int(input(\"Enter the duration in seconds: \"))"
      ]
    },
    {
      "cell_type": "markdown",
      "metadata": {
        "id": "vSlUnCBMDICk"
      },
      "source": [
        "### The countdown loop:"
      ]
    },
    {
      "cell_type": "code",
      "execution_count": null,
      "metadata": {
        "colab": {
          "base_uri": "https://localhost:8080/"
        },
        "id": "U68JVhkqDQrK",
        "outputId": "8c70662a-2f51-43c3-cd1f-3a9f4c806ca9"
      },
      "outputs": [
        {
          "name": "stdout",
          "output_type": "stream",
          "text": [
            "Time remaining: 00:01\n",
            "Time's up!\n"
          ]
        }
      ],
      "source": [
        "for remaining_time in range(duration, 0, -1):\n",
        "    minutes, seconds = divmod(remaining_time, 60)\n",
        "    print(f\"\\rTime remaining: {minutes:02d}:{seconds:02d}\", end=\"\", flush=True)\n",
        "    time.sleep(1)\n",
        "print(\"\\nTime's up!\")"
      ]
    }
  ],
  "metadata": {
    "colab": {
      "authorship_tag": "ABX9TyOyHoriI5p/EIlEMmVVIRXf",
      "include_colab_link": true,
      "provenance": []
    },
    "kernelspec": {
      "display_name": "Python 3",
      "name": "python3"
    },
    "language_info": {
      "name": "python"
    }
  },
  "nbformat": 4,
  "nbformat_minor": 0
}
