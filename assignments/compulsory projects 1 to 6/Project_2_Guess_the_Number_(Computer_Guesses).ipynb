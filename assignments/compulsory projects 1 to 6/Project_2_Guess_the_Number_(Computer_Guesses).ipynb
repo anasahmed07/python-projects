{
  "cells": [
    {
      "cell_type": "markdown",
      "metadata": {
        "id": "hx9t8hYqH1oq"
      },
      "source": [
        "# Number Guessing Game (Computer)\n",
        "\n",
        "This program attempts to guess a number that the user thinks of, using the binary search strategy of guessing the half of total.\n",
        "\n",
        "---\n",
        "\n",
        "### Initializing Variables\n",
        "\n",
        "```python\n",
        "low, high = 1, 100\n",
        "feedback = \"\"\n"
      ]
    },
    {
      "cell_type": "code",
      "execution_count": null,
      "metadata": {
        "id": "Uk3Dm2eUKrky"
      },
      "outputs": [],
      "source": [
        "low, high = 1, 100\n",
        "feedback = \"\""
      ]
    },
    {
      "cell_type": "markdown",
      "metadata": {
        "id": "fJfw73QOIVqD"
      },
      "source": [
        "`low` and `high` define the range of numbers (1 to 100).\n",
        "\n",
        "\n",
        "`feedback` is an empty string to store user input."
      ]
    },
    {
      "cell_type": "markdown",
      "metadata": {
        "id": "D80Tka8cJIMe"
      },
      "source": [
        "###Display Instructions\n",
        "\n",
        "\n"
      ]
    },
    {
      "cell_type": "code",
      "execution_count": null,
      "metadata": {
        "colab": {
          "base_uri": "https://localhost:8080/"
        },
        "id": "2V07zXITIP16",
        "outputId": "c24e4eb0-7831-4497-8ddc-90ae635190b0"
      },
      "outputs": [
        {
          "name": "stdout",
          "output_type": "stream",
          "text": [
            "Think of a number between 1 and 100, and I'll try to guess it!\n"
          ]
        }
      ],
      "source": [
        "print(\"Think of a number between 1 and 100, and I'll try to guess it!\")\n"
      ]
    },
    {
      "cell_type": "markdown",
      "metadata": {
        "id": "iiY15UYeJPgp"
      },
      "source": [
        "### Implementing the Guessing Loop"
      ]
    },
    {
      "cell_type": "code",
      "execution_count": null,
      "metadata": {
        "colab": {
          "base_uri": "https://localhost:8080/"
        },
        "id": "_aGl3worJSEA",
        "outputId": "2676e6c4-e1f2-4d3b-8db0-3133eefa6900"
      },
      "outputs": [
        {
          "name": "stdout",
          "output_type": "stream",
          "text": [
            "Is 84 too high (h), too low (l), or correct (c)? h\n",
            "Is 82 too high (h), too low (l), or correct (c)? j\n",
            "Invalid input. Please enter 'h', 'l', or 'c'.\n",
            "Is 82 too high (h), too low (l), or correct (c)? c\n",
            "Yay! I guessed your number correctly!\n"
          ]
        }
      ],
      "source": [
        "while feedback != \"c\":\n",
        "    guess = (low + high) // 2\n",
        "    feedback = input(f\"Is {guess} too high (h), too low (l), or correct (c)? \").lower()\n",
        "    if feedback == \"h\":\n",
        "      high = guess - 1\n",
        "    elif feedback == \"l\":\n",
        "      low = guess + 1\n",
        "    elif feedback == \"c\":\n",
        "      break\n",
        "    else:\n",
        "      print(\"Invalid input. Please enter 'h', 'l', or 'c'.\")\n",
        "print(\"Yay! I guessed your number correctly!\")\n",
        "\n",
        "\n"
      ]
    }
  ],
  "metadata": {
    "colab": {
      "authorship_tag": "ABX9TyPi7s+IXB/kAgBie6sZB0gZ",
      "include_colab_link": true,
      "provenance": []
    },
    "kernelspec": {
      "display_name": "Python 3",
      "name": "python3"
    },
    "language_info": {
      "name": "python"
    }
  },
  "nbformat": 4,
  "nbformat_minor": 0
}
