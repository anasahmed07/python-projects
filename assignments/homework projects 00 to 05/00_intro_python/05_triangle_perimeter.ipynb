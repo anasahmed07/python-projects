{
 "cells": [
  {
   "cell_type": "code",
   "execution_count": null,
   "metadata": {
    "vscode": {
     "languageId": "plaintext"
    }
   },
   "outputs": [],
   "source": [
    "def main():\n",
    "    # Get the 3 side lengths of the triangle\n",
    "    side1 = float(input(\"What is the length of side 1? \"))\n",
    "    side2 = float(input(\"What is the length of side 2? \"))\n",
    "    side3 = float(input(\"What is the length of side 3? \"))\n",
    "\n",
    "    # Calculate perimeter\n",
    "    perimeter = side1 + side2 + side3\n",
    "\n",
    "    # Print the perimeter\n",
    "    print(f\"The perimeter of the triangle is {perimeter}\")\n",
    "\n",
    "if __name__ == '__main__':\n",
    "    main()"
   ]
  }
 ],
 "metadata": {
  "language_info": {
   "name": "python"
  }
 },
 "nbformat": 4,
 "nbformat_minor": 2
}
