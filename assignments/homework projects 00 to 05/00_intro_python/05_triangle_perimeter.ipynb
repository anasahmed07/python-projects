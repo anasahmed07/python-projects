{
 "cells": [
  {
   "cell_type": "code",
   "execution_count": 1,
   "metadata": {},
   "outputs": [
    {
     "name": "stdout",
     "output_type": "stream",
     "text": [
      "The perimeter of the triangle is 104.0\n"
     ]
    }
   ],
   "source": [
    "def main():\n",
    "    # Get the 3 side lengths of the triangle\n",
    "    side1 = float(input(\"What is the length of side 1? \"))\n",
    "    side2 = float(input(\"What is the length of side 2? \"))\n",
    "    side3 = float(input(\"What is the length of side 3? \"))\n",
    "\n",
    "    perimeter = side1 + side2 + side3\n",
    "\n",
    "    print(f\"The perimeter of the triangle is {perimeter}\")\n",
    "\n",
    "if __name__ == '__main__':\n",
    "    main()"
   ]
  }
 ],
 "metadata": {
  "kernelspec": {
   "display_name": "Python 3",
   "language": "python",
   "name": "python3"
  },
  "language_info": {
   "codemirror_mode": {
    "name": "ipython",
    "version": 3
   },
   "file_extension": ".py",
   "mimetype": "text/x-python",
   "name": "python",
   "nbconvert_exporter": "python",
   "pygments_lexer": "ipython3",
   "version": "3.11.9"
  }
 },
 "nbformat": 4,
 "nbformat_minor": 2
}
