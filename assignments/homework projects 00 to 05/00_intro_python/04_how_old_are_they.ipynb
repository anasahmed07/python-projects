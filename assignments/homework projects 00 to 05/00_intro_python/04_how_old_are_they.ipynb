{
 "cells": [
  {
   "cell_type": "code",
   "execution_count": null,
   "metadata": {
    "vscode": {
     "languageId": "plaintext"
    }
   },
   "outputs": [],
   "source": [
    "\n",
    "# 🎂 Age Calculator Program\n",
    "# 📝 This program calculates and displays the ages of five individuals based on a given pattern.\n",
    "\n",
    "def calculate_ages():\n",
    "    \"\"\"\n",
    "    📌 This function assigns and calculates ages based on a given sequence.\n",
    "    \"\"\"\n",
    "    # 🎭 Assign initial ages\n",
    "    alex = 21  \n",
    "    bella = alex + 6  \n",
    "    charlie = bella + 20  \n",
    "    dylan = charlie + alex  \n",
    "    emma = charlie  \n",
    "\n",
    "    # 📢 Display the calculated ages\n",
    "    print(f\"🎈 Alex is {alex} years old.\")\n",
    "    print(f\"🎈 Bella is {bella} years old.\")\n",
    "    print(f\"🎈 Charlie is {charlie} years old.\")\n",
    "    print(f\"🎈 Dylan is {dylan} years old.\")\n",
    "    print(f\"🎈 Emma is {emma} years old.\")\n",
    "\n",
    "# 🚀 Run the program\n",
    "if __name__ == '__main__':\n",
    "    calculate_ages()"
   ]
  }
 ],
 "metadata": {
  "language_info": {
   "name": "python"
  }
 },
 "nbformat": 4,
 "nbformat_minor": 2
}
