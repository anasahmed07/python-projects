{
 "cells": [
  {
   "cell_type": "code",
   "execution_count": 1,
   "metadata": {},
   "outputs": [
    {
     "name": "stdout",
     "output_type": "stream",
     "text": [
      "Alex is 21 years old.\n",
      "Bella is 27 years old.\n",
      "Charlie is 47 years old.\n",
      "Dylan is 68 years old.\n",
      "Emma is 47 years old.\n"
     ]
    }
   ],
   "source": [
    "\n",
    "def calculate_ages():\n",
    "   \n",
    "    alex = 21  \n",
    "    bella = alex + 6  \n",
    "    charlie = bella + 20  \n",
    "    dylan = charlie + alex  \n",
    "    emma = charlie  \n",
    "\n",
    "    print(f\"Alex is {alex} years old.\")\n",
    "    print(f\"Bella is {bella} years old.\")\n",
    "    print(f\"Charlie is {charlie} years old.\")\n",
    "    print(f\"Dylan is {dylan} years old.\")\n",
    "    print(f\"Emma is {emma} years old.\")\n",
    "\n",
    "\n",
    "if __name__ == '__main__':\n",
    "    calculate_ages()"
   ]
  }
 ],
 "metadata": {
  "kernelspec": {
   "display_name": "Python 3",
   "language": "python",
   "name": "python3"
  },
  "language_info": {
   "codemirror_mode": {
    "name": "ipython",
    "version": 3
   },
   "file_extension": ".py",
   "mimetype": "text/x-python",
   "name": "python",
   "nbconvert_exporter": "python",
   "pygments_lexer": "ipython3",
   "version": "3.11.9"
  }
 },
 "nbformat": 4,
 "nbformat_minor": 2
}
