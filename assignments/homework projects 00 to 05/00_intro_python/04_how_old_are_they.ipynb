{
 "cells": [
  {
   "cell_type": "code",
   "execution_count": null,
   "metadata": {
    "vscode": {
     "languageId": "plaintext"
    }
   },
   "outputs": [],
   "source": [
    "\n",
    "def calculate_ages():\n",
    "   \n",
    "    alex = 21  \n",
    "    bella = alex + 6  \n",
    "    charlie = bella + 20  \n",
    "    dylan = charlie + alex  \n",
    "    emma = charlie  \n",
    "\n",
    "    print(f\"Alex is {alex} years old.\")\n",
    "    print(f\"Bella is {bella} years old.\")\n",
    "    print(f\"Charlie is {charlie} years old.\")\n",
    "    print(f\"Dylan is {dylan} years old.\")\n",
    "    print(f\"Emma is {emma} years old.\")\n",
    "\n",
    "\n",
    "if __name__ == '__main__':\n",
    "    calculate_ages()"
   ]
  }
 ],
 "metadata": {
  "language_info": {
   "name": "python"
  }
 },
 "nbformat": 4,
 "nbformat_minor": 2
}
