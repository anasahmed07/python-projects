{
 "cells": [
  {
   "cell_type": "code",
   "execution_count": null,
   "metadata": {
    "vscode": {
     "languageId": "plaintext"
    }
   },
   "outputs": [],
   "source": [
    "\n",
    "def fahrenheit_to_celsius(fahrenheit):\n",
    "    return (fahrenheit - 32) * 5.0 / 9.0\n",
    "\n",
    "def main():\n",
    "    try:\n",
    "        fahrenheit = float(input(\"Enter temperature in Fahrenheit: \"))\n",
    "        \n",
    "        celsius = fahrenheit_to_celsius(fahrenheit)\n",
    "        \n",
    "        print(f\"Temperature: {fahrenheit}°F = {celsius:.2f}°C 🌡️\")\n",
    "    \n",
    "    except ValueError:\n",
    "        print(\"⚠️ Please enter a valid number!\")\n",
    "\n",
    "if __name__ == '__main__':\n",
    "    main()"
   ]
  }
 ],
 "metadata": {
  "language_info": {
   "name": "python"
  }
 },
 "nbformat": 4,
 "nbformat_minor": 2
}
