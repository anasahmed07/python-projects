{
 "cells": [
  {
   "cell_type": "code",
   "execution_count": 1,
   "metadata": {},
   "outputs": [
    {
     "name": "stdout",
     "output_type": "stream",
     "text": [
      "Temperature: 35.0°F = 1.67°C 🌡️\n"
     ]
    }
   ],
   "source": [
    "\n",
    "def fahrenheit_to_celsius(fahrenheit):\n",
    "    return (fahrenheit - 32) * 5.0 / 9.0\n",
    "\n",
    "def main():\n",
    "    try:\n",
    "        fahrenheit = float(input(\"Enter temperature in Fahrenheit: \"))\n",
    "        \n",
    "        celsius = fahrenheit_to_celsius(fahrenheit)\n",
    "        \n",
    "        print(f\"Temperature: {fahrenheit}°F = {celsius:.2f}°C 🌡️\")\n",
    "    \n",
    "    except ValueError:\n",
    "        print(\"⚠️ Please enter a valid number!\")\n",
    "\n",
    "if __name__ == '__main__':\n",
    "    main()"
   ]
  }
 ],
 "metadata": {
  "kernelspec": {
   "display_name": "Python 3",
   "language": "python",
   "name": "python3"
  },
  "language_info": {
   "codemirror_mode": {
    "name": "ipython",
    "version": 3
   },
   "file_extension": ".py",
   "mimetype": "text/x-python",
   "name": "python",
   "nbconvert_exporter": "python",
   "pygments_lexer": "ipython3",
   "version": "3.11.9"
  }
 },
 "nbformat": 4,
 "nbformat_minor": 2
}
