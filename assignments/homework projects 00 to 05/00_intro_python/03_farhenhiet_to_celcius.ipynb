{
 "cells": [
  {
   "cell_type": "code",
   "execution_count": null,
   "metadata": {
    "vscode": {
     "languageId": "plaintext"
    }
   },
   "outputs": [],
   "source": [
    "# 🌡️ Temperature Converter: Fahrenheit to Celsius\n",
    "# 📝 This script converts temperature from Fahrenheit to Celsius.\n",
    "\n",
    "def fahrenheit_to_celsius(fahrenheit):\n",
    "    \"\"\"\n",
    "    📌 Convert Fahrenheit to Celsius.\n",
    "    \n",
    "    🔢 Formula: (°F - 32) × 5/9 = °C\n",
    "    \"\"\"\n",
    "    return (fahrenheit - 32) * 5.0 / 9.0\n",
    "\n",
    "def main():\n",
    "    # 🏁 Prompt user for input\n",
    "    try:\n",
    "        fahrenheit = float(input(\"❄️ Enter temperature in Fahrenheit: \"))\n",
    "        \n",
    "        # 🔄 Convert temperature\n",
    "        celsius = fahrenheit_to_celsius(fahrenheit)\n",
    "        \n",
    "        # 📢 Display the result\n",
    "        print(f\"✅ Temperature: {fahrenheit}°F = {celsius:.2f}°C 🌡️\")\n",
    "    \n",
    "    except ValueError:\n",
    "        print(\"⚠️ Please enter a valid number! 🚫\")\n",
    "\n",
    "# 🚀 Run the script when executed\n",
    "if __name__ == '__main__':\n",
    "    main()"
   ]
  }
 ],
 "metadata": {
  "language_info": {
   "name": "python"
  }
 },
 "nbformat": 4,
 "nbformat_minor": 2
}
