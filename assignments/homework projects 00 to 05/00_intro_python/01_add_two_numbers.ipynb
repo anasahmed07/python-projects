{
 "cells": [
  {
   "cell_type": "code",
   "execution_count": null,
   "metadata": {
    "vscode": {
     "languageId": "plaintext"
    }
   },
   "outputs": [],
   "source": [
    "def main():\n",
    "    print(\"This program adds two numbers.\")\n",
    "    num1 = int(input(\"Enter first number: \"))\n",
    "    num2 = int(input(\"Enter second number: \"))\n",
    "    total = num1 + num2\n",
    "    print(f\"The total is {total}.\")\n",
    "\n",
    "if __name__ == '__main__':\n",
    "    main()"
   ]
  }
 ],
 "metadata": {
  "language_info": {
   "name": "python"
  }
 },
 "nbformat": 4,
 "nbformat_minor": 2
}
