{
 "cells": [
  {
   "cell_type": "code",
   "execution_count": null,
   "metadata": {
    "vscode": {
     "languageId": "plaintext"
    }
   },
   "outputs": [],
   "source": [
    "INCHES_IN_FOOT: int = 12\n",
    "\n",
    "def main():\n",
    "    \n",
    "    try:\n",
    "        feet = float(input(\"Enter number of feet: \"))  # Get the number of feet\n",
    "        inches = feet * INCHES_IN_FOOT  # Convert to inches\n",
    "        print(f\"That is {inches} inches!\")\n",
    "    except ValueError:\n",
    "        print(\"Please enter a valid number.\")\n",
    "\n",
    "\n",
    "if __name__ == '__main__':\n",
    "    main()\n",
    "\n",
    "\n"
   ]
  }
 ],
 "metadata": {
  "language_info": {
   "name": "python"
  }
 },
 "nbformat": 4,
 "nbformat_minor": 2
}
