{
 "cells": [
  {
   "cell_type": "code",
   "execution_count": 1,
   "metadata": {},
   "outputs": [
    {
     "name": "stdout",
     "output_type": "stream",
     "text": [
      "That is 48.0 inches!\n"
     ]
    }
   ],
   "source": [
    "INCHES_IN_FOOT: int = 12\n",
    "\n",
    "def main():\n",
    "    \n",
    "    try:\n",
    "        feet = float(input(\"Enter number of feet: \"))  # Get the number of feet\n",
    "        inches = feet * INCHES_IN_FOOT  # Convert to inches\n",
    "        print(f\"That is {inches} inches!\")\n",
    "    except ValueError:\n",
    "        print(\"Please enter a valid number.\")\n",
    "\n",
    "\n",
    "if __name__ == '__main__':\n",
    "    main()\n",
    "\n",
    "\n"
   ]
  }
 ],
 "metadata": {
  "kernelspec": {
   "display_name": "Python 3",
   "language": "python",
   "name": "python3"
  },
  "language_info": {
   "codemirror_mode": {
    "name": "ipython",
    "version": 3
   },
   "file_extension": ".py",
   "mimetype": "text/x-python",
   "name": "python",
   "nbconvert_exporter": "python",
   "pygments_lexer": "ipython3",
   "version": "3.11.9"
  }
 },
 "nbformat": 4,
 "nbformat_minor": 2
}
