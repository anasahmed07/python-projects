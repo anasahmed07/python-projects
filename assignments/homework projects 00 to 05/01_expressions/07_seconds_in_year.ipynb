{
 "cells": [
  {
   "cell_type": "code",
   "execution_count": null,
   "metadata": {
    "vscode": {
     "languageId": "plaintext"
    }
   },
   "outputs": [],
   "source": [
    "\n",
    "DAYS_PER_YEAR = 365\n",
    "HOURS_PER_DAY = 24\n",
    "MIN_PER_HOUR = 60\n",
    "SEC_PER_MIN = 60\n",
    "\n",
    "def calculate_seconds_in_year():\n",
    "    \n",
    "    return DAYS_PER_YEAR * HOURS_PER_DAY * MIN_PER_HOUR * SEC_PER_MIN\n",
    "\n",
    "def main():\n",
    "    seconds = calculate_seconds_in_year()\n",
    "    print(f\"There are {seconds} seconds in a year!\")\n",
    "\n",
    "if __name__ == \"__main__\":\n",
    "    main()"
   ]
  }
 ],
 "metadata": {
  "language_info": {
   "name": "python"
  }
 },
 "nbformat": 4,
 "nbformat_minor": 2
}
