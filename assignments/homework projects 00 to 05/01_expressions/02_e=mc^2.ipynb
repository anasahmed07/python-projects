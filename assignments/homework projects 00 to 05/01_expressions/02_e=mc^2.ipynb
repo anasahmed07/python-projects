{
 "cells": [
  {
   "cell_type": "code",
   "execution_count": 1,
   "metadata": {},
   "outputs": [
    {
     "name": "stdout",
     "output_type": "stream",
     "text": [
      "e = m * C^2...\n",
      "m = 0.5 kg\n",
      "C = 299792458 m/s\n",
      "4.493775893684088e+16 joules of energy!\n"
     ]
    }
   ],
   "source": [
    "def calculate_energy(mass):\n",
    "    C = 299792458  # Speed of light in m/s\n",
    "    return mass * (C ** 2)\n",
    "\n",
    "def main():\n",
    "    \n",
    "    try:\n",
    "        mass = float(input(\"Enter kilos of mass: \"))\n",
    "        energy = calculate_energy(mass)\n",
    "        print(\"e = m * C^2...\")\n",
    "        print(f\"m = {mass} kg\")\n",
    "        print(f\"C = {299792458} m/s\")\n",
    "        print(f\"{energy} joules of energy!\")\n",
    "    except ValueError:\n",
    "        print(\"Please enter a valid number.\")\n",
    "\n",
    "if __name__ == \"__main__\":\n",
    "    main()\n",
    "\n",
    "\n"
   ]
  }
 ],
 "metadata": {
  "kernelspec": {
   "display_name": "Python 3",
   "language": "python",
   "name": "python3"
  },
  "language_info": {
   "codemirror_mode": {
    "name": "ipython",
    "version": 3
   },
   "file_extension": ".py",
   "mimetype": "text/x-python",
   "name": "python",
   "nbconvert_exporter": "python",
   "pygments_lexer": "ipython3",
   "version": "3.11.9"
  }
 },
 "nbformat": 4,
 "nbformat_minor": 2
}
