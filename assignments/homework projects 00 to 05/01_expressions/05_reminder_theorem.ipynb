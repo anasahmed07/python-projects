{
 "cells": [
  {
   "cell_type": "code",
   "execution_count": null,
   "metadata": {
    "vscode": {
     "languageId": "plaintext"
    }
   },
   "outputs": [],
   "source": [
    "def main():\n",
    "    \n",
    "    try:\n",
    "        dividend = int(input(\"Please enter an integer to be divided: \"))  # Get first number\n",
    "        divisor = int(input(\"Please enter an integer to divide by: \"))  # Get second number\n",
    "\n",
    "        if divisor == 0:\n",
    "            print(\"Division by zero is not allowed.\")\n",
    "            return\n",
    "\n",
    "        quotient = dividend // divisor  # Integer division\n",
    "        remainder = dividend % divisor  # Get remainder\n",
    "        print(f\"The result of this division is {quotient} with a remainder of {remainder}\")\n",
    "    except ValueError:\n",
    "        print(\"Please enter a valid integer.\")\n",
    "\n",
    "\n",
    "if __name__ == '__main__':\n",
    "    main()\n",
    "\n"
   ]
  }
 ],
 "metadata": {
  "language_info": {
   "name": "python"
  }
 },
 "nbformat": 4,
 "nbformat_minor": 2
}
