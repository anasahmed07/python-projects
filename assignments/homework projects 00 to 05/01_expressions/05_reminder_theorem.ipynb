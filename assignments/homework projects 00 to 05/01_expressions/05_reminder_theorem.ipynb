{
 "cells": [
  {
   "cell_type": "code",
   "execution_count": 1,
   "metadata": {},
   "outputs": [
    {
     "name": "stdout",
     "output_type": "stream",
     "text": [
      "The result of this division is 1 with a remainder of 6\n"
     ]
    }
   ],
   "source": [
    "def main():\n",
    "    \n",
    "    try:\n",
    "        dividend = int(input(\"Please enter an integer to be divided: \"))  # Get first number\n",
    "        divisor = int(input(\"Please enter an integer to divide by: \"))  # Get second number\n",
    "\n",
    "        if divisor == 0:\n",
    "            print(\"Division by zero is not allowed.\")\n",
    "            return\n",
    "\n",
    "        quotient = dividend // divisor  # Integer division\n",
    "        remainder = dividend % divisor  # Get remainder\n",
    "        print(f\"The result of this division is {quotient} with a remainder of {remainder}\")\n",
    "    except ValueError:\n",
    "        print(\"Please enter a valid integer.\")\n",
    "\n",
    "\n",
    "if __name__ == '__main__':\n",
    "    main()\n",
    "\n"
   ]
  }
 ],
 "metadata": {
  "kernelspec": {
   "display_name": "Python 3",
   "language": "python",
   "name": "python3"
  },
  "language_info": {
   "codemirror_mode": {
    "name": "ipython",
    "version": 3
   },
   "file_extension": ".py",
   "mimetype": "text/x-python",
   "name": "python",
   "nbconvert_exporter": "python",
   "pygments_lexer": "ipython3",
   "version": "3.11.9"
  }
 },
 "nbformat": 4,
 "nbformat_minor": 2
}
