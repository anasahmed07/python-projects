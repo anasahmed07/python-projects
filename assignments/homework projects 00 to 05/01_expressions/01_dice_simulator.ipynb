{
 "cells": [
  {
   "cell_type": "code",
   "execution_count": 1,
   "metadata": {},
   "outputs": [
    {
     "name": "stdout",
     "output_type": "stream",
     "text": [
      "die1 in main() starts as: 10\n",
      "Rolled: 5 and 3, Total: 8\n",
      "Rolled: 6 and 3, Total: 9\n",
      "Rolled: 3 and 2, Total: 5\n",
      "die1 in main() is: 10\n"
     ]
    }
   ],
   "source": [
    "import random\n",
    "\n",
    "# Number of sides on each die to roll\n",
    "NUM_SIDES = 6\n",
    "\n",
    "def roll_dice():\n",
    "\n",
    "    die1 = random.randint(1, NUM_SIDES)\n",
    "    die2 = random.randint(1, NUM_SIDES)\n",
    "    total = die1 + die2\n",
    "    print(f\"Rolled: {die1} and {die2}, Total: {total}\")\n",
    "\n",
    "def main():\n",
    "    die1 = 10  # Variable scope demonstration\n",
    "    print(f\"die1 in main() starts as: {die1}\")\n",
    "    \n",
    "    # Roll the dice three times\n",
    "    for _ in range(3):\n",
    "        roll_dice()\n",
    "    \n",
    "    print(f\"die1 in main() is: {die1}\")\n",
    "\n",
    "if __name__ == '__main__':\n",
    "    main()\n",
    "\n",
    "\n"
   ]
  }
 ],
 "metadata": {
  "kernelspec": {
   "display_name": "Python 3",
   "language": "python",
   "name": "python3"
  },
  "language_info": {
   "codemirror_mode": {
    "name": "ipython",
    "version": 3
   },
   "file_extension": ".py",
   "mimetype": "text/x-python",
   "name": "python",
   "nbconvert_exporter": "python",
   "pygments_lexer": "ipython3",
   "version": "3.11.9"
  }
 },
 "nbformat": 4,
 "nbformat_minor": 2
}
