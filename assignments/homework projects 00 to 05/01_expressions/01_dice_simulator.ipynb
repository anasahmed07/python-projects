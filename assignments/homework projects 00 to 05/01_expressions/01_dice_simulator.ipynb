{
 "cells": [
  {
   "cell_type": "code",
   "execution_count": null,
   "metadata": {
    "vscode": {
     "languageId": "plaintext"
    }
   },
   "outputs": [],
   "source": [
    "import random\n",
    "\n",
    "# Number of sides on each die to roll\n",
    "NUM_SIDES = 6\n",
    "\n",
    "def roll_dice():\n",
    "\n",
    "    die1 = random.randint(1, NUM_SIDES)\n",
    "    die2 = random.randint(1, NUM_SIDES)\n",
    "    total = die1 + die2\n",
    "    print(f\"Rolled: {die1} and {die2}, Total: {total}\")\n",
    "\n",
    "def main():\n",
    "    die1 = 10  # Variable scope demonstration\n",
    "    print(f\"die1 in main() starts as: {die1}\")\n",
    "    \n",
    "    # Roll the dice three times\n",
    "    for _ in range(3):\n",
    "        roll_dice()\n",
    "    \n",
    "    print(f\"die1 in main() is: {die1}\")\n",
    "\n",
    "if __name__ == '__main__':\n",
    "    main()\n",
    "\n",
    "\n"
   ]
  }
 ],
 "metadata": {
  "language_info": {
   "name": "python"
  }
 },
 "nbformat": 4,
 "nbformat_minor": 2
}
