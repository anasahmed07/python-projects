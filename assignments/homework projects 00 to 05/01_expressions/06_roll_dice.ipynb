{
 "cells": [
  {
   "cell_type": "code",
   "execution_count": 1,
   "metadata": {},
   "outputs": [
    {
     "name": "stdout",
     "output_type": "stream",
     "text": [
      "Dice have 6 sides each.\n",
      "First die: 3\n",
      "Second die: 3\n",
      "Total of two dice: 6\n"
     ]
    }
   ],
   "source": [
    "import random\n",
    "\n",
    "# Number of sides on each die\n",
    "NUM_SIDES = 6\n",
    "\n",
    "def roll_dice():\n",
    "    \n",
    "    die1 = random.randint(1, NUM_SIDES)\n",
    "    die2 = random.randint(1, NUM_SIDES)\n",
    "    total = die1 + die2\n",
    "\n",
    "    print(f\"Dice have {NUM_SIDES} sides each.\")\n",
    "    print(f\"First die: {die1}\")\n",
    "    print(f\"Second die: {die2}\")\n",
    "    print(f\"Total of two dice: {total}\")\n",
    "\n",
    "def main():\n",
    "    roll_dice()\n",
    "\n",
    "if __name__ == \"__main__\":\n",
    "    main()"
   ]
  }
 ],
 "metadata": {
  "kernelspec": {
   "display_name": "Python 3",
   "language": "python",
   "name": "python3"
  },
  "language_info": {
   "codemirror_mode": {
    "name": "ipython",
    "version": 3
   },
   "file_extension": ".py",
   "mimetype": "text/x-python",
   "name": "python",
   "nbconvert_exporter": "python",
   "pygments_lexer": "ipython3",
   "version": "3.11.9"
  }
 },
 "nbformat": 4,
 "nbformat_minor": 2
}
