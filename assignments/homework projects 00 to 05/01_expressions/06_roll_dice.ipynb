{
 "cells": [
  {
   "cell_type": "code",
   "execution_count": null,
   "metadata": {
    "vscode": {
     "languageId": "plaintext"
    }
   },
   "outputs": [],
   "source": [
    "import random\n",
    "\n",
    "# Number of sides on each die\n",
    "NUM_SIDES = 6\n",
    "\n",
    "def roll_dice():\n",
    "    \n",
    "    die1 = random.randint(1, NUM_SIDES)\n",
    "    die2 = random.randint(1, NUM_SIDES)\n",
    "    total = die1 + die2\n",
    "\n",
    "    print(f\"Dice have {NUM_SIDES} sides each.\")\n",
    "    print(f\"First die: {die1}\")\n",
    "    print(f\"Second die: {die2}\")\n",
    "    print(f\"Total of two dice: {total}\")\n",
    "\n",
    "def main():\n",
    "    roll_dice()\n",
    "\n",
    "if __name__ == \"__main__\":\n",
    "    main()"
   ]
  }
 ],
 "metadata": {
  "language_info": {
   "name": "python"
  }
 },
 "nbformat": 4,
 "nbformat_minor": 2
}
