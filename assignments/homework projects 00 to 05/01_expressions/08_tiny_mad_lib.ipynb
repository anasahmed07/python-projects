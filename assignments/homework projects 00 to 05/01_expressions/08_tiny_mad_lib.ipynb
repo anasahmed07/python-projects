{
 "cells": [
  {
   "cell_type": "code",
   "execution_count": null,
   "metadata": {
    "vscode": {
     "languageId": "plaintext"
    }
   },
   "outputs": [],
   "source": [
    "STORY_START = \"One day, I found a mysterious spaceship. It took me to a \"\n",
    "\n",
    "def create_story():\n",
    "    \n",
    "    adjective = input(\"Enter an adjective: \")\n",
    "    planet = input(\"Enter the name of a planet: \")\n",
    "    creature = input(\"Enter a type of alien or creature: \")\n",
    "\n",
    "\n",
    "    print(\"\\nYour Space Adventure Begins! 🚀\")\n",
    "    print(STORY_START + f\"{adjective} planet called {planet}, where I met a {creature}!\")\n",
    "\n",
    "\n",
    "if __name__ == \"__main__\":\n",
    "    create_story()\n"
   ]
  }
 ],
 "metadata": {
  "language_info": {
   "name": "python"
  }
 },
 "nbformat": 4,
 "nbformat_minor": 2
}
