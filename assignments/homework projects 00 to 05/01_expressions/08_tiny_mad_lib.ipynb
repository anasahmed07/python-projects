{
 "cells": [
  {
   "cell_type": "code",
   "execution_count": 2,
   "metadata": {},
   "outputs": [
    {
     "name": "stdout",
     "output_type": "stream",
     "text": [
      "\n",
      "Your Space Adventure Begins! 🚀\n",
      "One day, I found a mysterious spaceship. It took me to a mesterious planet called mars, where I met a venom!\n"
     ]
    }
   ],
   "source": [
    "STORY_START = \"One day, I found a mysterious spaceship. It took me to a \"\n",
    "\n",
    "def create_story():\n",
    "    \n",
    "    adjective = input(\"Enter an adjective: \")\n",
    "    planet = input(\"Enter the name of a planet: \")\n",
    "    creature = input(\"Enter a type of alien or creature: \")\n",
    "\n",
    "\n",
    "    print(\"\\nYour Space Adventure Begins! 🚀\")\n",
    "    print(STORY_START + f\"{adjective} planet called {planet}, where I met a {creature}!\")\n",
    "\n",
    "\n",
    "if __name__ == \"__main__\":\n",
    "    create_story()\n"
   ]
  }
 ],
 "metadata": {
  "kernelspec": {
   "display_name": "Python 3",
   "language": "python",
   "name": "python3"
  },
  "language_info": {
   "codemirror_mode": {
    "name": "ipython",
    "version": 3
   },
   "file_extension": ".py",
   "mimetype": "text/x-python",
   "name": "python",
   "nbconvert_exporter": "python",
   "pygments_lexer": "ipython3",
   "version": "3.11.9"
  }
 },
 "nbformat": 4,
 "nbformat_minor": 2
}
