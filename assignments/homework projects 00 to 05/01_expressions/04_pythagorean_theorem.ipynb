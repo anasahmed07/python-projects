{
 "cells": [
  {
   "cell_type": "code",
   "execution_count": null,
   "metadata": {
    "vscode": {
     "languageId": "plaintext"
    }
   },
   "outputs": [],
   "source": [
    "import math\n",
    "\n",
    "def main():\n",
    "    \n",
    "    try:\n",
    "        ab = float(input(\"Enter the length of AB: \"))  # Get side AB\n",
    "        ac = float(input(\"Enter the length of AC: \"))  # Get side AC\n",
    "        bc = math.sqrt(ab**2 + ac**2)  # Compute hypotenuse using Pythagorean theorem\n",
    "        print(f\"The length of BC (the hypotenuse) is: {bc}\")\n",
    "    except ValueError:\n",
    "        print(\"Please enter a valid number.\")\n",
    "\n",
    "\n",
    "if __name__ == '__main__':\n",
    "    main()\n",
    "\n"
   ]
  }
 ],
 "metadata": {
  "language_info": {
   "name": "python"
  }
 },
 "nbformat": 4,
 "nbformat_minor": 2
}
