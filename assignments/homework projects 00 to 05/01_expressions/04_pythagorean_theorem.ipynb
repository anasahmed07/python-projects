{
 "cells": [
  {
   "cell_type": "code",
   "execution_count": 1,
   "metadata": {},
   "outputs": [
    {
     "name": "stdout",
     "output_type": "stream",
     "text": [
      "The length of BC (the hypotenuse) is: 7.211102550927978\n"
     ]
    }
   ],
   "source": [
    "import math\n",
    "\n",
    "def main():\n",
    "    \n",
    "    try:\n",
    "        ab = float(input(\"Enter the length of AB: \"))  # Get side AB\n",
    "        ac = float(input(\"Enter the length of AC: \"))  # Get side AC\n",
    "        bc = math.sqrt(ab**2 + ac**2)  # Compute hypotenuse using Pythagorean theorem\n",
    "        print(f\"The length of BC (the hypotenuse) is: {bc}\")\n",
    "    except ValueError:\n",
    "        print(\"Please enter a valid number.\")\n",
    "\n",
    "\n",
    "if __name__ == '__main__':\n",
    "    main()\n",
    "\n"
   ]
  }
 ],
 "metadata": {
  "kernelspec": {
   "display_name": "Python 3",
   "language": "python",
   "name": "python3"
  },
  "language_info": {
   "codemirror_mode": {
    "name": "ipython",
    "version": 3
   },
   "file_extension": ".py",
   "mimetype": "text/x-python",
   "name": "python",
   "nbconvert_exporter": "python",
   "pygments_lexer": "ipython3",
   "version": "3.11.9"
  }
 },
 "nbformat": 4,
 "nbformat_minor": 2
}
