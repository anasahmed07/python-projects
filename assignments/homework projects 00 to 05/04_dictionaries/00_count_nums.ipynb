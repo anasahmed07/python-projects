{
 "cells": [
  {
   "cell_type": "code",
   "execution_count": 1,
   "metadata": {},
   "outputs": [
    {
     "name": "stdout",
     "output_type": "stream",
     "text": [
      "\n",
      "Welcome to the Number Frequency Counter!\n",
      "Enter numbers one by one. Press Enter without input to finish.\n",
      "\n",
      "\n",
      "Number Frequency Results:\n",
      "🔹 55: 2 time(s)\n",
      "🔹 66: 1 time(s)\n",
      "🔹 778: 1 time(s)\n",
      "\n",
      "Thank you for using the Number Frequency Counter!\n"
     ]
    }
   ],
   "source": [
    "\n",
    "\n",
    "def count_frequencies():\n",
    "    \n",
    "    print(\"\\nWelcome to the Number Frequency Counter!\")\n",
    "    print(\"Enter numbers one by one. Press Enter without input to finish.\\n\")\n",
    "\n",
    "    frequency_dict = {}  # Dictionary to store number counts\n",
    "\n",
    "    while True:\n",
    "        try:\n",
    "            user_input = input(\"Enter a number (or press Enter to finish): \")\n",
    "\n",
    "            if user_input == \"\":  # Stop input collection if Enter is pressed\n",
    "                break\n",
    "\n",
    "            number = int(user_input)  # Convert input to integer\n",
    "\n",
    "            # Count occurrences\n",
    "            frequency_dict[number] = frequency_dict.get(number, 0) + 1  \n",
    "\n",
    "        except ValueError:\n",
    "            print(\"❌ Invalid input! Please enter a valid number.\")\n",
    "\n",
    "    # Display results\n",
    "    print(\"\\nNumber Frequency Results:\")\n",
    "    if frequency_dict:\n",
    "        for num, count in sorted(frequency_dict.items()):\n",
    "            print(f\"🔹 {num}: {count} time(s)\")\n",
    "    else:\n",
    "        print(\"⚠️ No numbers were entered.\")\n",
    "\n",
    "    print(\"\\nThank you for using the Number Frequency Counter!\")\n",
    "\n",
    "# Run the script when executed\n",
    "if __name__ == \"__main__\":\n",
    "    count_frequencies()\n"
   ]
  }
 ],
 "metadata": {
  "kernelspec": {
   "display_name": "Python 3",
   "language": "python",
   "name": "python3"
  },
  "language_info": {
   "codemirror_mode": {
    "name": "ipython",
    "version": 3
   },
   "file_extension": ".py",
   "mimetype": "text/x-python",
   "name": "python",
   "nbconvert_exporter": "python",
   "pygments_lexer": "ipython3",
   "version": "3.11.9"
  }
 },
 "nbformat": 4,
 "nbformat_minor": 2
}
