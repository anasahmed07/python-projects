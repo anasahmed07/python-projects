{
 "cells": [
  {
   "cell_type": "code",
   "execution_count": 1,
   "metadata": {},
   "outputs": [
    {
     "name": "stdout",
     "output_type": "stream",
     "text": [
      "\n",
      "🛒 Your total is **$163.50**. Thank you for shopping! 🍉\n"
     ]
    }
   ],
   "source": [
    "def main():\n",
    "\n",
    "    \n",
    "    # Dictionary storing fruit names and their prices per unit ($)\n",
    "    fruits = {\n",
    "        'banana': 0.5,\n",
    "        'pineapple': 3.0,\n",
    "        'grapes': 2.5,\n",
    "        'strawberry': 4.0,\n",
    "        'watermelon': 7.0,\n",
    "        'blueberry': 6.5\n",
    "    }\n",
    "    \n",
    "    total_cost = 0  # Variable to store total cost\n",
    "\n",
    "    for fruit_name, price in fruits.items():\n",
    "        amount_bought = int(input(f\"How many ({fruit_name}) do you want to buy?: \"))\n",
    "        total_cost += price * amount_bought\n",
    "    \n",
    "    # Display total amount\n",
    "    print(f\"\\n🛒 Your total is **${total_cost:.2f}**. Thank you for shopping! 🍉\")\n",
    "\n",
    "if __name__ == '__main__':\n",
    "    main()\n"
   ]
  }
 ],
 "metadata": {
  "kernelspec": {
   "display_name": "Python 3",
   "language": "python",
   "name": "python3"
  },
  "language_info": {
   "codemirror_mode": {
    "name": "ipython",
    "version": 3
   },
   "file_extension": ".py",
   "mimetype": "text/x-python",
   "name": "python",
   "nbconvert_exporter": "python",
   "pygments_lexer": "ipython3",
   "version": "3.11.9"
  }
 },
 "nbformat": 4,
 "nbformat_minor": 2
}
