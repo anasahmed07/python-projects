{
 "cells": [
  {
   "cell_type": "code",
   "execution_count": 1,
   "metadata": {},
   "outputs": [
    {
     "name": "stdout",
     "output_type": "stream",
     "text": [
      "\n",
      "Phonebook Entries:\n",
      "anas -> 03092328094\n",
      "azhar -> 03002328102\n",
      "ather -> 03365312712\n",
      "azhar -> 03002328102\n",
      "anas -> 03092328094\n"
     ]
    }
   ],
   "source": [
    "def read_phone_numbers():\n",
    "\n",
    "    phonebook = {}  # Create empty phonebook\n",
    "    while True:\n",
    "        name = input(\"Name: \")\n",
    "        if name == \"\":\n",
    "            break\n",
    "        number = input(\"Number: \")\n",
    "        phonebook[name] = number\n",
    "    return phonebook\n",
    "\n",
    "def print_phonebook(phonebook):\n",
    "\n",
    "    print(\"\\nPhonebook Entries:\")\n",
    "    for name, number in phonebook.items():\n",
    "        print(f\"{name} -> {number}\")\n",
    "\n",
    "def lookup_numbers(phonebook):\n",
    "\n",
    "    while True:\n",
    "        name = input(\"Enter name to lookup (or press Enter to exit): \")\n",
    "        if name == \"\":\n",
    "            break\n",
    "        if name not in phonebook:\n",
    "            print(f\"{name} is not in the phonebook.\")\n",
    "        else:\n",
    "            print(f\"{name} -> {phonebook[name]}\")\n",
    "\n",
    "def main():\n",
    "    phonebook = read_phone_numbers()\n",
    "    print_phonebook(phonebook)\n",
    "    lookup_numbers(phonebook)\n",
    "\n",
    "if __name__ == '__main__':\n",
    "    main()\n",
    "\n"
   ]
  }
 ],
 "metadata": {
  "kernelspec": {
   "display_name": "Python 3",
   "language": "python",
   "name": "python3"
  },
  "language_info": {
   "codemirror_mode": {
    "name": "ipython",
    "version": 3
   },
   "file_extension": ".py",
   "mimetype": "text/x-python",
   "name": "python",
   "nbconvert_exporter": "python",
   "pygments_lexer": "ipython3",
   "version": "3.11.9"
  }
 },
 "nbformat": 4,
 "nbformat_minor": 2
}
