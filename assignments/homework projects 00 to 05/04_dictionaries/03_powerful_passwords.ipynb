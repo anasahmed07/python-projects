{
 "cells": [
  {
   "cell_type": "code",
   "execution_count": 2,
   "metadata": {},
   "outputs": [
    {
     "name": "stdout",
     "output_type": "stream",
     "text": [
      "❌ Login failed. Invalid email or password. Please try again. 🔐\n"
     ]
    }
   ],
   "source": [
    "from hashlib import sha256\n",
    "\n",
    "def hash_password(password):\n",
    "    return sha256(password.encode()).hexdigest()\n",
    "\n",
    "def login(email, stored_logins, password_to_check):\n",
    "    return stored_logins.get(email) == hash_password(password_to_check)\n",
    "\n",
    "def main():\n",
    "    \"\"\"\n",
    "    Simulates a simple secure login system.\n",
    "    \"\"\"\n",
    "    stored_logins = {\n",
    "        \"user1@example.com\": \"3a5b2c1f8d6e9f7a2b4c6d1e5f8a9b3c7d2e4f1a6c8b5d9e7f3a2c4b1d6e8f9\",\n",
    "        \"hello@secure.com\": \"b7c3e8f9a2d1b5c6f3e4a7d2c8b1f9e6a3d5c2b4f7e8a9d6c1b3f5e4a7c2d9f8\",\n",
    "        \"admin@mysite.com\": \"9e7f3a2c4b1d6e8f5a7c3b2d1f9e6a4c8b5d2f7a9e3c1b6f4a5d2e8c7b3f9a1\"\n",
    "    }\n",
    "    \n",
    "    email = input(\"📧 Enter your email: \")\n",
    "    password = input(\"🔑 Enter your password: \")\n",
    "    \n",
    "    if login(email, stored_logins, password):\n",
    "        print(\"✅ Login successful! Welcome! 🎉\")\n",
    "    else:\n",
    "        print(\"❌ Login failed. Invalid email or password. Please try again. 🔐\")\n",
    "\n",
    "if __name__ == '__main__':\n",
    "    main()\n"
   ]
  }
 ],
 "metadata": {
  "kernelspec": {
   "display_name": "Python 3",
   "language": "python",
   "name": "python3"
  },
  "language_info": {
   "codemirror_mode": {
    "name": "ipython",
    "version": 3
   },
   "file_extension": ".py",
   "mimetype": "text/x-python",
   "name": "python",
   "nbconvert_exporter": "python",
   "pygments_lexer": "ipython3",
   "version": "3.11.9"
  }
 },
 "nbformat": 4,
 "nbformat_minor": 2
}
