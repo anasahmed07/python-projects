{
 "cells": [
  {
   "cell_type": "code",
   "execution_count": 1,
   "metadata": {},
   "outputs": [
    {
     "name": "stdout",
     "output_type": "stream",
     "text": [
      "🚀 Preparing for launch...\n",
      "5\n",
      "4\n",
      "3\n",
      "2\n",
      "1\n",
      "🔥 Blastoff! The mission has started! 🚀\n"
     ]
    }
   ],
   "source": [
    "import time\n",
    "\n",
    "def countdown_timer():\n",
    "    print(\"🚀 Preparing for launch...\")\n",
    "    \n",
    "    for i in range(5, 0, -1):\n",
    "        print(i)\n",
    "        time.sleep(1)\n",
    "\n",
    "    print(\"🔥 Blastoff! The mission has started! 🚀\")\n",
    "\n",
    "# Run the countdown\n",
    "if __name__ == \"__main__\":\n",
    "    countdown_timer()\n"
   ]
  }
 ],
 "metadata": {
  "kernelspec": {
   "display_name": "Python 3",
   "language": "python",
   "name": "python3"
  },
  "language_info": {
   "codemirror_mode": {
    "name": "ipython",
    "version": 3
   },
   "file_extension": ".py",
   "mimetype": "text/x-python",
   "name": "python",
   "nbconvert_exporter": "python",
   "pygments_lexer": "ipython3",
   "version": "3.11.9"
  }
 },
 "nbformat": 4,
 "nbformat_minor": 2
}
