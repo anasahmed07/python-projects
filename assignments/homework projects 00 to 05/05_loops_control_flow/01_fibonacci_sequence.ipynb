{
 "cells": [
  {
   "cell_type": "code",
   "execution_count": 1,
   "metadata": {},
   "outputs": [
    {
     "name": "stdout",
     "output_type": "stream",
     "text": [
      "Fibonacci Sequence up to 10000 :\n",
      "0 1 1 2 3 5 8 13 21 34 55 89 144 233 377 610 987 1597 2584 4181 6765 "
     ]
    }
   ],
   "source": [
    "MAX_TERM_VALUE = 10000\n",
    "\n",
    "def fibonacci_sequence():\n",
    "    curr_term, next_term = 0, 1\n",
    "    while curr_term <= MAX_TERM_VALUE:\n",
    "        print(curr_term, end=\" \")\n",
    "        curr_term, next_term = next_term, curr_term + next_term\n",
    "\n",
    "def main():\n",
    "    print(\"Fibonacci Sequence up to\", MAX_TERM_VALUE, \":\")\n",
    "    fibonacci_sequence()\n",
    "\n",
    "if __name__ == '__main__':\n",
    "    main()\n",
    "\n",
    "\n"
   ]
  }
 ],
 "metadata": {
  "kernelspec": {
   "display_name": "Python 3",
   "language": "python",
   "name": "python3"
  },
  "language_info": {
   "codemirror_mode": {
    "name": "ipython",
    "version": 3
   },
   "file_extension": ".py",
   "mimetype": "text/x-python",
   "name": "python",
   "nbconvert_exporter": "python",
   "pygments_lexer": "ipython3",
   "version": "3.11.9"
  }
 },
 "nbformat": 4,
 "nbformat_minor": 2
}
