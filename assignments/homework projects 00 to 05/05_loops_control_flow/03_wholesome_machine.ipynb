{
 "cells": [
  {
   "cell_type": "code",
   "execution_count": 2,
   "metadata": {},
   "outputs": [
    {
     "name": "stdout",
     "output_type": "stream",
     "text": [
      "Please type the following affirmation: \n",
      "I am strong, confident, and capable of achieving my goals.\n",
      "\n",
      "That was not the affirmation. Try again!\n",
      "Please type the following affirmation: \n",
      "I am strong, confident, and capable of achieving my goals.\n",
      "\n",
      "That's right! Keep believing in yourself! 😊\n"
     ]
    }
   ],
   "source": [
    "def main():\n",
    "    AFFIRMATION = \"I am strong, confident, and capable of achieving my goals.\"\n",
    "    \n",
    "    print(\"Please type the following affirmation: \")\n",
    "    print(AFFIRMATION)\n",
    "\n",
    "    user_feedback = input(\"> \")  # Get user's input\n",
    "    \n",
    "    while user_feedback != AFFIRMATION:  # Repeat until the correct affirmation is entered\n",
    "        print(\"\\nThat was not the affirmation. Try again!\")\n",
    "        print(\"Please type the following affirmation: \")\n",
    "        print(AFFIRMATION)\n",
    "        user_feedback = input(\"> \")\n",
    "\n",
    "    print(\"\\nThat's right! Keep believing in yourself! 😊\")\n",
    "\n",
    "if __name__ == \"__main__\":\n",
    "    main()\n"
   ]
  }
 ],
 "metadata": {
  "kernelspec": {
   "display_name": "Python 3",
   "language": "python",
   "name": "python3"
  },
  "language_info": {
   "codemirror_mode": {
    "name": "ipython",
    "version": 3
   },
   "file_extension": ".py",
   "mimetype": "text/x-python",
   "name": "python",
   "nbconvert_exporter": "python",
   "pygments_lexer": "ipython3",
   "version": "3.11.9"
  }
 },
 "nbformat": 4,
 "nbformat_minor": 2
}
