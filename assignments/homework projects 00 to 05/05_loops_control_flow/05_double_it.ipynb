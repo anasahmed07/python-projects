{
 "cells": [
  {
   "cell_type": "code",
   "execution_count": 1,
   "metadata": {},
   "outputs": [
    {
     "name": "stdout",
     "output_type": "stream",
     "text": [
      "Number Doubling Program\n",
      "Doubled Values:\n",
      "110\n"
     ]
    }
   ],
   "source": [
    "def double_until_threshold():\n",
    "    print(\"Number Doubling Program\")\n",
    "    \n",
    "    number = int(input(\"Enter a number: \"))\n",
    "    \n",
    "    curr_value = number\n",
    "    result = []\n",
    "    \n",
    "    while curr_value < 100:\n",
    "        curr_value *= 2\n",
    "        result.append(curr_value)\n",
    "    \n",
    "    print(\"Doubled Values:\")\n",
    "    print(\" \".join(map(str, result)))\n",
    "\n",
    "if __name__ == \"__main__\":\n",
    "    double_until_threshold()\n",
    "\n"
   ]
  }
 ],
 "metadata": {
  "kernelspec": {
   "display_name": "Python 3",
   "language": "python",
   "name": "python3"
  },
  "language_info": {
   "codemirror_mode": {
    "name": "ipython",
    "version": 3
   },
   "file_extension": ".py",
   "mimetype": "text/x-python",
   "name": "python",
   "nbconvert_exporter": "python",
   "pygments_lexer": "ipython3",
   "version": "3.11.9"
  }
 },
 "nbformat": 4,
 "nbformat_minor": 2
}
