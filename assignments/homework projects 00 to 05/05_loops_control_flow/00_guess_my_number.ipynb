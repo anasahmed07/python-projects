{
 "cells": [
  {
   "cell_type": "code",
   "execution_count": 1,
   "metadata": {},
   "outputs": [
    {
     "name": "stdout",
     "output_type": "stream",
     "text": [
      "I am thinking of a number between 1 and 200\n",
      "Your guess is too low!\n",
      "\n",
      "Your guess is too low!\n",
      "\n",
      "Your guess is too high!\n",
      "\n",
      "Your guess is too high!\n",
      "\n",
      "Your guess is too low!\n",
      "\n",
      "Your guess is too low!\n",
      "\n",
      "Your guess is too high!\n",
      "\n",
      "Congrats! The number was: 121 🎯\n"
     ]
    }
   ],
   "source": [
    "import random\n",
    "\n",
    "def main():\n",
    "\n",
    "    secret_number = random.randint(1, 200)\n",
    "    \n",
    "    print(\"I am thinking of a number between 1 and 200\")\n",
    "    \n",
    "    # Get user's guess\n",
    "    guess = int(input(\"Enter a guess: \"))\n",
    "    \n",
    "    # Loop until the user guesses correctly\n",
    "    while guess != secret_number:\n",
    "        if guess < secret_number:\n",
    "            print(\"Your guess is too low!\")\n",
    "        else:\n",
    "            print(\"Your guess is too high!\")\n",
    "            \n",
    "        print()  # Print an empty line for better readability\n",
    "        guess = int(input(\"Enter a new guess: \"))  # Get a new guess\n",
    "        \n",
    "    print(f\"Congrats! The number was: {secret_number} 🎯\")\n",
    "    \n",
    "if __name__ == '__main__':\n",
    "    main()\n"
   ]
  }
 ],
 "metadata": {
  "kernelspec": {
   "display_name": "Python 3",
   "language": "python",
   "name": "python3"
  },
  "language_info": {
   "codemirror_mode": {
    "name": "ipython",
    "version": 3
   },
   "file_extension": ".py",
   "mimetype": "text/x-python",
   "name": "python",
   "nbconvert_exporter": "python",
   "pygments_lexer": "ipython3",
   "version": "3.11.9"
  }
 },
 "nbformat": 4,
 "nbformat_minor": 2
}
