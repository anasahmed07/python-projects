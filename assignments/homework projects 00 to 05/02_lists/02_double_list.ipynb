{
 "cells": [
  {
   "cell_type": "code",
   "execution_count": null,
   "metadata": {
    "vscode": {
     "languageId": "plaintext"
    }
   },
   "outputs": [],
   "source": [
    "def double_numbers(numbers: list[int]) -> list[int]:\n",
    "\n",
    "    for i in range(len(numbers)):\n",
    "        numbers[i] *= 2  # Double each element in the list\n",
    "    return numbers\n",
    "\n",
    "\n",
    "def main():\n",
    "\n",
    "    numbers = input(\"Enter a list of numbers separated by spaces: \")\n",
    "    numbers = list(map(int, numbers.split()))  # Convert input string to list of integers\n",
    "    doubled_numbers = double_numbers(numbers)\n",
    "    print(\"Doubled list:\", doubled_numbers)\n",
    "\n",
    "\n",
    "if __name__ == \"__main__\":\n",
    "    main()\n",
    "\n"
   ]
  }
 ],
 "metadata": {
  "language_info": {
   "name": "python"
  }
 },
 "nbformat": 4,
 "nbformat_minor": 2
}
