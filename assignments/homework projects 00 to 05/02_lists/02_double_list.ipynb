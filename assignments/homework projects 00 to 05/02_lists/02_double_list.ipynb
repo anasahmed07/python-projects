{
 "cells": [
  {
   "cell_type": "code",
   "execution_count": 1,
   "metadata": {},
   "outputs": [
    {
     "name": "stdout",
     "output_type": "stream",
     "text": [
      "Doubled list: [110, 110, 132, 156, 6, 10, 50, 12, 10, 4, 112, 4, 10, 10]\n"
     ]
    }
   ],
   "source": [
    "def double_numbers(numbers: list[int]) -> list[int]:\n",
    "\n",
    "    for i in range(len(numbers)):\n",
    "        numbers[i] *= 2  # Double each element in the list\n",
    "    return numbers\n",
    "\n",
    "\n",
    "def main():\n",
    "\n",
    "    numbers = input(\"Enter a list of numbers separated by spaces: \")\n",
    "    numbers = list(map(int, numbers.split()))  # Convert input string to list of integers\n",
    "    doubled_numbers = double_numbers(numbers)\n",
    "    print(\"Doubled list:\", doubled_numbers)\n",
    "\n",
    "\n",
    "if __name__ == \"__main__\":\n",
    "    main()\n",
    "\n"
   ]
  }
 ],
 "metadata": {
  "kernelspec": {
   "display_name": "Python 3",
   "language": "python",
   "name": "python3"
  },
  "language_info": {
   "codemirror_mode": {
    "name": "ipython",
    "version": 3
   },
   "file_extension": ".py",
   "mimetype": "text/x-python",
   "name": "python",
   "nbconvert_exporter": "python",
   "pygments_lexer": "ipython3",
   "version": "3.11.9"
  }
 },
 "nbformat": 4,
 "nbformat_minor": 2
}
