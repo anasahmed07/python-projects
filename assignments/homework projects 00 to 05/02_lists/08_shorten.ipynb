{
 "cells": [
  {
   "cell_type": "code",
   "execution_count": null,
   "metadata": {
    "vscode": {
     "languageId": "plaintext"
    }
   },
   "outputs": [],
   "source": [
    "MAX_LENGTH: int = 3\n",
    "\n",
    "def shorten(lst):\n",
    "    \n",
    "    while len(lst) > MAX_LENGTH:\n",
    "        last_elem = lst.pop()\n",
    "        print(f\"Removed: {last_elem}\")\n",
    "\n",
    "def get_lst():\n",
    "    \n",
    "    lst = []\n",
    "    while True:\n",
    "        elem = input(\"Enter an element (or press Enter to stop): \")\n",
    "        if elem == \"\":\n",
    "            break\n",
    "        lst.append(elem)\n",
    "    return lst\n",
    "\n",
    "def main():\n",
    "    lst = get_lst()\n",
    "    print(\"Original List:\", lst)\n",
    "    shorten(lst)\n",
    "    print(\"Final List:\", lst)\n",
    "\n",
    "if __name__ == '__main__':\n",
    "    main()\n",
    "\n"
   ]
  }
 ],
 "metadata": {
  "language_info": {
   "name": "python"
  }
 },
 "nbformat": 4,
 "nbformat_minor": 2
}
