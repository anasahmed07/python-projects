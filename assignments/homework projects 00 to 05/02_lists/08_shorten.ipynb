{
 "cells": [
  {
   "cell_type": "code",
   "execution_count": 1,
   "metadata": {},
   "outputs": [
    {
     "name": "stdout",
     "output_type": "stream",
     "text": [
      "Original List: ['djasbdjsbbd', 'dog', 'cat', 'cup']\n",
      "Removed: cup\n",
      "Final List: ['djasbdjsbbd', 'dog', 'cat']\n"
     ]
    }
   ],
   "source": [
    "MAX_LENGTH: int = 3\n",
    "\n",
    "def shorten(lst):\n",
    "    \n",
    "    while len(lst) > MAX_LENGTH:\n",
    "        last_elem = lst.pop()\n",
    "        print(f\"Removed: {last_elem}\")\n",
    "\n",
    "def get_lst():\n",
    "    \n",
    "    lst = []\n",
    "    while True:\n",
    "        elem = input(\"Enter an element (or press Enter to stop): \")\n",
    "        if elem == \"\":\n",
    "            break\n",
    "        lst.append(elem)\n",
    "    return lst\n",
    "\n",
    "def main():\n",
    "    lst = get_lst()\n",
    "    print(\"Original List:\", lst)\n",
    "    shorten(lst)\n",
    "    print(\"Final List:\", lst)\n",
    "\n",
    "if __name__ == '__main__':\n",
    "    main()\n",
    "\n"
   ]
  }
 ],
 "metadata": {
  "kernelspec": {
   "display_name": "Python 3",
   "language": "python",
   "name": "python3"
  },
  "language_info": {
   "codemirror_mode": {
    "name": "ipython",
    "version": 3
   },
   "file_extension": ".py",
   "mimetype": "text/x-python",
   "name": "python",
   "nbconvert_exporter": "python",
   "pygments_lexer": "ipython3",
   "version": "3.11.9"
  }
 },
 "nbformat": 4,
 "nbformat_minor": 2
}
