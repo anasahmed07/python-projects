{
 "cells": [
  {
   "cell_type": "code",
   "execution_count": 1,
   "metadata": {},
   "outputs": [
    {
     "name": "stdout",
     "output_type": "stream",
     "text": [
      "Here's the list: ['555', '444', '236']\n"
     ]
    }
   ],
   "source": [
    "def main():\n",
    "    lst = []  # Initialize an empty list\n",
    "\n",
    "    while True:\n",
    "        val = input(\"Enter a value: \")\n",
    "        if val == \"\":\n",
    "            break\n",
    "        lst.append(val) \n",
    "    \n",
    "    print(\"Here's the list:\", lst)\n",
    "\n",
    "if __name__ == '__main__':\n",
    "    main()\n",
    "\n"
   ]
  }
 ],
 "metadata": {
  "kernelspec": {
   "display_name": "Python 3",
   "language": "python",
   "name": "python3"
  },
  "language_info": {
   "codemirror_mode": {
    "name": "ipython",
    "version": 3
   },
   "file_extension": ".py",
   "mimetype": "text/x-python",
   "name": "python",
   "nbconvert_exporter": "python",
   "pygments_lexer": "ipython3",
   "version": "3.11.9"
  }
 },
 "nbformat": 4,
 "nbformat_minor": 2
}
