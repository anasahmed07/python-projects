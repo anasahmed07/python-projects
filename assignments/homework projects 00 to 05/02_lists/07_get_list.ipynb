{
 "cells": [
  {
   "cell_type": "code",
   "execution_count": null,
   "metadata": {
    "vscode": {
     "languageId": "plaintext"
    }
   },
   "outputs": [],
   "source": [
    "def main():\n",
    "    lst = []  # Initialize an empty list\n",
    "\n",
    "    while True:\n",
    "        val = input(\"Enter a value: \")\n",
    "        if val == \"\":\n",
    "            break\n",
    "        lst.append(val) \n",
    "    \n",
    "    print(\"Here's the list:\", lst)\n",
    "\n",
    "if __name__ == '__main__':\n",
    "    main()\n",
    "\n"
   ]
  }
 ],
 "metadata": {
  "language_info": {
   "name": "python"
  }
 },
 "nbformat": 4,
 "nbformat_minor": 2
}
