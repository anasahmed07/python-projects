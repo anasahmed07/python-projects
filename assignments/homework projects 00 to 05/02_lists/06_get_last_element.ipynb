{
 "cells": [
  {
   "cell_type": "code",
   "execution_count": null,
   "metadata": {
    "vscode": {
     "languageId": "plaintext"
    }
   },
   "outputs": [],
   "source": [
    "def get_last_element(lst):\n",
    "    print(\"Last Element:\", lst[-1])\n",
    "\n",
    "\n",
    "def get_lst():\n",
    "\n",
    "    lst = []\n",
    "    elem = input(\"Please enter an element of the list or press enter to stop: \")\n",
    "    while elem != \"\":\n",
    "        lst.append(elem)\n",
    "        elem = input(\"Please enter an element of the list or press enter to stop: \")\n",
    "    return lst\n",
    "\n",
    "\n",
    "def main():\n",
    "    lst = get_lst()\n",
    "    get_last_element(lst)\n",
    "\n",
    "\n",
    "if __name__ == \"__main__\":\n",
    "    main()\n",
    "\n"
   ]
  }
 ],
 "metadata": {
  "language_info": {
   "name": "python"
  }
 },
 "nbformat": 4,
 "nbformat_minor": 2
}
