{
 "cells": [
  {
   "cell_type": "code",
   "execution_count": 1,
   "metadata": {},
   "outputs": [
    {
     "name": "stdout",
     "output_type": "stream",
     "text": [
      "The sum of the entered numbers is: 668.0\n"
     ]
    }
   ],
   "source": [
    "def add_many_numbers(numbers):\n",
    "\n",
    "    total_so_far = sum(numbers)\n",
    "    return total_so_far\n",
    "\n",
    "\n",
    "def main():\n",
    "\n",
    "    try:\n",
    "        numbers = list(map(float, input(\"Enter numbers separated by spaces: \").split()))\n",
    "        sum_of_numbers = add_many_numbers(numbers)\n",
    "        print(f\"The sum of the entered numbers is: {sum_of_numbers}\")\n",
    "    except ValueError:\n",
    "        print(\"Invalid input! Please enter valid numbers separated by spaces.\")\n",
    "\n",
    "\n",
    "if __name__ == \"__main__\":\n",
    "    main()\n",
    "\n"
   ]
  }
 ],
 "metadata": {
  "kernelspec": {
   "display_name": "Python 3",
   "language": "python",
   "name": "python3"
  },
  "language_info": {
   "codemirror_mode": {
    "name": "ipython",
    "version": 3
   },
   "file_extension": ".py",
   "mimetype": "text/x-python",
   "name": "python",
   "nbconvert_exporter": "python",
   "pygments_lexer": "ipython3",
   "version": "3.11.9"
  }
 },
 "nbformat": 4,
 "nbformat_minor": 2
}
