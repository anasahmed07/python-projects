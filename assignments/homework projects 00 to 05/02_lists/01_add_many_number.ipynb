{
 "cells": [
  {
   "cell_type": "code",
   "execution_count": null,
   "metadata": {
    "vscode": {
     "languageId": "plaintext"
    }
   },
   "outputs": [],
   "source": [
    "def add_many_numbers(numbers):\n",
    "\n",
    "    total_so_far = sum(numbers)\n",
    "    return total_so_far\n",
    "\n",
    "\n",
    "def main():\n",
    "\n",
    "    try:\n",
    "        numbers = list(map(float, input(\"Enter numbers separated by spaces: \").split()))\n",
    "        sum_of_numbers = add_many_numbers(numbers)\n",
    "        print(f\"The sum of the entered numbers is: {sum_of_numbers}\")\n",
    "    except ValueError:\n",
    "        print(\"Invalid input! Please enter valid numbers separated by spaces.\")\n",
    "\n",
    "\n",
    "if __name__ == \"__main__\":\n",
    "    main()\n",
    "\n"
   ]
  }
 ],
 "metadata": {
  "language_info": {
   "name": "python"
  }
 },
 "nbformat": 4,
 "nbformat_minor": 2
}
