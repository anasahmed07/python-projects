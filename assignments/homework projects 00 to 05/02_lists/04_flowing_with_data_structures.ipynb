{
 "cells": [
  {
   "cell_type": "code",
   "execution_count": null,
   "metadata": {
    "vscode": {
     "languageId": "plaintext"
    }
   },
   "outputs": [],
   "source": [
    "def add_three_copies(my_list, data):\n",
    "   \n",
    "    for _ in range(3):\n",
    "        my_list.append(data)\n",
    "\n",
    "def main():\n",
    "    message = input(\"Enter a message to copy: \")\n",
    "    my_list = []\n",
    "    print(\"List before:\", my_list)\n",
    "    add_three_copies(my_list, message)\n",
    "    print(\"List after:\", my_list)\n",
    "\n",
    "if __name__ == \"__main__\":\n",
    "    main()\n",
    "\n"
   ]
  }
 ],
 "metadata": {
  "language_info": {
   "name": "python"
  }
 },
 "nbformat": 4,
 "nbformat_minor": 2
}
