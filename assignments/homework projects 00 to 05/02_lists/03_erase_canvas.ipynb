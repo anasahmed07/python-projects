{
 "cells": [
  {
   "cell_type": "code",
   "execution_count": null,
   "metadata": {
    "vscode": {
     "languageId": "plaintext"
    }
   },
   "outputs": [],
   "source": [
    "import time \n",
    "import os    \n",
    "\n",
    "\n",
    "CANVAS_WIDTH = 10\n",
    "CANVAS_HEIGHT = 10\n",
    "ERASER_SIZE = 2\n",
    "\n",
    "\n",
    "canvas = [['█' for _ in range(CANVAS_WIDTH)] for _ in range(CANVAS_HEIGHT)]\n",
    "\n",
    "def print_canvas():\n",
    " \n",
    "    os.system('cls' if os.name == 'nt' else 'clear')\n",
    "    for row in canvas:\n",
    "        print(\" \".join(row))\n",
    "    print(\"\\n🎮 Move the eraser using W/A/S/D. Press Q to quit.\")\n",
    "\n",
    "def erase(x, y):\n",
    "    for i in range(max(0, y), min(CANVAS_HEIGHT, y + ERASER_SIZE)):\n",
    "        for j in range(max(0, x), min(CANVAS_WIDTH, x + ERASER_SIZE)):\n",
    "            canvas[i][j] = ' '  # 🧽 Canvas clean karna\n",
    "\n",
    "def main():\n",
    "\n",
    "    eraser_x, eraser_y = 0, 0  # 🎯 Eraser start position\n",
    "    print_canvas()  # 🖥️ Pehli bar canvas dikhana\n",
    "    \n",
    "    while True:\n",
    "        command = input(\"🔼🔽🔼 Enter move (W/A/S/D to move, Q to quit): \").strip().lower()\n",
    "        \n",
    "        if command == 'q':  # ❌ Quit karna\n",
    "            break\n",
    "        elif command == 'w' and eraser_y > 0:  # 🔼 Up\n",
    "            eraser_y -= 1\n",
    "        elif command == 's' and eraser_y < CANVAS_HEIGHT - ERASER_SIZE:  # 🔽 Down\n",
    "            eraser_y += 1\n",
    "        elif command == 'a' and eraser_x > 0:  # ◀️ Left\n",
    "            eraser_x -= 1\n",
    "        elif command == 'd' and eraser_x < CANVAS_WIDTH - ERASER_SIZE:  # ▶️ Right\n",
    "            eraser_x += 1\n",
    "        \n",
    "        erase(eraser_x, eraser_y)\n",
    "        print_canvas()\n",
    "        time.sleep(0.1)\n",
    "\n",
    "\n",
    "if __name__ == \"__main__\":\n",
    "    main()\n"
   ]
  }
 ],
 "metadata": {
  "language_info": {
   "name": "python"
  }
 },
 "nbformat": 4,
 "nbformat_minor": 2
}
