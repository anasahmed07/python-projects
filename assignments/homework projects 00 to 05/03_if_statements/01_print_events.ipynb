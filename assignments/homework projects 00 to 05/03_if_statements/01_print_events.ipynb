{
 "cells": [
  {
   "cell_type": "code",
   "execution_count": null,
   "metadata": {
    "vscode": {
     "languageId": "plaintext"
    }
   },
   "outputs": [],
   "source": [
    "def main():\n",
    "\n",
    "    for i in range(20):  # Loop 20 times\n",
    "        print(i * 2, end=\" \")  # Multiply each number by 2 to get even numbers\n",
    "    print()  # Prints a new line after the loop ends\n",
    "\n",
    "\n",
    "if __name__ == \"__main__\":\n",
    "    main()\n"
   ]
  }
 ],
 "metadata": {
  "language_info": {
   "name": "python"
  }
 },
 "nbformat": 4,
 "nbformat_minor": 2
}
