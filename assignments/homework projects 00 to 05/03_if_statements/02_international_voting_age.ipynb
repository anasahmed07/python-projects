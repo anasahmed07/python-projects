{
 "cells": [
  {
   "cell_type": "code",
   "execution_count": null,
   "metadata": {
    "vscode": {
     "languageId": "plaintext"
    }
   },
   "outputs": [],
   "source": [
    "# Defining the minimum voting ages for three fictional countries\n",
    "VOTING_AGE_A = 16  # Country A (e.g., NeoLand)\n",
    "VOTING_AGE_B = 25  # Country B (e.g., Eldoria)\n",
    "VOTING_AGE_C = 48  # Country C (e.g., Grayshore)\n",
    "\n",
    "def check_voting_eligibility():\n",
    " \n",
    "    user_age = int(input(\"Enter your age: \"))\n",
    "\n",
    "    # Checking voting eligibility for Country A\n",
    "    if user_age >= VOTING_AGE_A:\n",
    "        print(f\"You can vote in NeoLand where the voting age is {VOTING_AGE_A}.\")\n",
    "    else:\n",
    "        print(f\"You cannot vote in NeoLand where the voting age is {VOTING_AGE_A}.\")\n",
    "\n",
    "    # Checking voting eligibility for Country B\n",
    "    if user_age >= VOTING_AGE_B:\n",
    "        print(f\"You can vote in Eldoria where the voting age is {VOTING_AGE_B}.\")\n",
    "    else:\n",
    "        print(f\"You cannot vote in Eldoria where the voting age is {VOTING_AGE_B}.\")\n",
    "\n",
    "    # Checking voting eligibility for Country C\n",
    "    if user_age >= VOTING_AGE_C:\n",
    "        print(f\"You can vote in Grayshore where the voting age is {VOTING_AGE_C}.\")\n",
    "    else:\n",
    "        print(f\"You cannot vote in Grayshore where the voting age is {VOTING_AGE_C}.\")\n",
    "\n",
    "# Running the function only when the script is executed directly\n",
    "if __name__ == \"__main__\":\n",
    "    check_voting_eligibility()\n"
   ]
  }
 ],
 "metadata": {
  "language_info": {
   "name": "python"
  }
 },
 "nbformat": 4,
 "nbformat_minor": 2
}
