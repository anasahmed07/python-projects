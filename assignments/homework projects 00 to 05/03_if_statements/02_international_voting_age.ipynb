{
 "cells": [
  {
   "cell_type": "code",
   "execution_count": 1,
   "metadata": {},
   "outputs": [
    {
     "name": "stdout",
     "output_type": "stream",
     "text": [
      "You can vote in NeoLand where the voting age is 16.\n",
      "You can vote in Eldoria where the voting age is 25.\n",
      "You can vote in Grayshore where the voting age is 48.\n"
     ]
    }
   ],
   "source": [
    "# Defining the minimum voting ages for three fictional countries\n",
    "VOTING_AGE_A = 16  # Country A (e.g., NeoLand)\n",
    "VOTING_AGE_B = 25  # Country B (e.g., Eldoria)\n",
    "VOTING_AGE_C = 48  # Country C (e.g., Grayshore)\n",
    "\n",
    "def check_voting_eligibility():\n",
    " \n",
    "    user_age = int(input(\"Enter your age: \"))\n",
    "\n",
    "    # Checking voting eligibility for Country A\n",
    "    if user_age >= VOTING_AGE_A:\n",
    "        print(f\"You can vote in NeoLand where the voting age is {VOTING_AGE_A}.\")\n",
    "    else:\n",
    "        print(f\"You cannot vote in NeoLand where the voting age is {VOTING_AGE_A}.\")\n",
    "\n",
    "    # Checking voting eligibility for Country B\n",
    "    if user_age >= VOTING_AGE_B:\n",
    "        print(f\"You can vote in Eldoria where the voting age is {VOTING_AGE_B}.\")\n",
    "    else:\n",
    "        print(f\"You cannot vote in Eldoria where the voting age is {VOTING_AGE_B}.\")\n",
    "\n",
    "    # Checking voting eligibility for Country C\n",
    "    if user_age >= VOTING_AGE_C:\n",
    "        print(f\"You can vote in Grayshore where the voting age is {VOTING_AGE_C}.\")\n",
    "    else:\n",
    "        print(f\"You cannot vote in Grayshore where the voting age is {VOTING_AGE_C}.\")\n",
    "\n",
    "# Running the function only when the script is executed directly\n",
    "if __name__ == \"__main__\":\n",
    "    check_voting_eligibility()\n"
   ]
  }
 ],
 "metadata": {
  "kernelspec": {
   "display_name": "Python 3",
   "language": "python",
   "name": "python3"
  },
  "language_info": {
   "codemirror_mode": {
    "name": "ipython",
    "version": 3
   },
   "file_extension": ".py",
   "mimetype": "text/x-python",
   "name": "python",
   "nbconvert_exporter": "python",
   "pygments_lexer": "ipython3",
   "version": "3.11.9"
  }
 },
 "nbformat": 4,
 "nbformat_minor": 2
}
