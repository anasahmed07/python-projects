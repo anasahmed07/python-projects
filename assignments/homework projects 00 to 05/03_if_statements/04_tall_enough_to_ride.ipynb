{
 "cells": [
  {
   "cell_type": "code",
   "execution_count": null,
   "metadata": {
    "vscode": {
     "languageId": "plaintext"
    }
   },
   "outputs": [],
   "source": [
    "MINIMUM_HEIGHT = 50  # Minimum height required to ride\n",
    "\n",
    "def main():\n",
    "    while True:\n",
    "        height = input(\"How tall are you? (Press enter to exit) \")\n",
    "        if height == \"\":\n",
    "            break\n",
    "        \n",
    "        try:\n",
    "            height = float(height)\n",
    "            if height >= MINIMUM_HEIGHT:\n",
    "                print(\"You're tall enough to ride!\")\n",
    "            else:\n",
    "                print(\"You're not tall enough to ride, but maybe next year!\")\n",
    "        except ValueError:\n",
    "            print(\"Please enter a valid number.\")\n",
    "\n",
    "if __name__ == '__main__':\n",
    "    main()\n",
    "\n"
   ]
  }
 ],
 "metadata": {
  "language_info": {
   "name": "python"
  }
 },
 "nbformat": 4,
 "nbformat_minor": 2
}
