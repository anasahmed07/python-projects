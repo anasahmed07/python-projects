{
  "cells": [
    {
      "cell_type": "markdown",
      "metadata": {
        "id": "7Nf_x2MoI6H7"
      },
      "source": [
        "# Joke Telling Program\n",
        "-----------"
      ]
    },
    {
      "cell_type": "markdown",
      "metadata": {
        "id": "UwBZUe2MJ2K6"
      },
      "source": [
        "### This program tells jokes based on user input\n",
        "### initializtion of variables"
      ]
    },
    {
      "cell_type": "code",
      "execution_count": null,
      "metadata": {
        "id": "etgA73V8Jt5J"
      },
      "outputs": [],
      "source": [
        "PROMPT = \"What do you want? \"\n",
        "JOKE = \"\"\"Here's a joke for you: Why don't programmers like nature? Because it has too many bugs!\"\"\"\n",
        "SORRY = \"Sorry I only tell jokes.\""
      ]
    },
    {
      "cell_type": "markdown",
      "metadata": {
        "id": "GZ4jZGWdKFXn"
      },
      "source": [
        "### main function"
      ]
    },
    {
      "cell_type": "code",
      "execution_count": 1,
      "metadata": {
        "colab": {
          "base_uri": "https://localhost:8080/"
        },
        "id": "q1Ecenv0GD-J",
        "outputId": "94a4830b-d70c-47a3-85fe-2765400495c1"
      },
      "outputs": [
        {
          "name": "stdout",
          "output_type": "stream",
          "text": [
            "What do you want? \n",
            "> tell me a random joke\n",
            "Here's a joke for you: Why don't programmers like nature? Because it has too many bugs!\n"
          ]
        }
      ],
      "source": [
        "def main():\n",
        "    print(PROMPT)\n",
        "    user_input = input(\"> \")  # Getting user input\n",
        "\n",
        "    user_input = user_input.strip().lower()  # Clean the input\n",
        "\n",
        "    if \"joke\" in user_input:\n",
        "        print(JOKE)\n",
        "    else:\n",
        "        print(SORRY)\n",
        "\n",
        "if __name__ == \"__main__\":\n",
        "    main()"
      ]
    }
  ],
  "metadata": {
    "colab": {
      "provenance": [],
      "toc_visible": true
    },
    "kernelspec": {
      "display_name": "Python 3",
      "name": "python3"
    },
    "language_info": {
      "name": "python"
    }
  },
  "nbformat": 4,
  "nbformat_minor": 0
}
