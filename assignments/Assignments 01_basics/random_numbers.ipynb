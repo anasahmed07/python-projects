{
  "nbformat": 4,
  "nbformat_minor": 0,
  "metadata": {
    "colab": {
      "provenance": []
    },
    "kernelspec": {
      "name": "python3",
      "display_name": "Python 3"
    },
    "language_info": {
      "name": "python"
    }
  },
  "cells": [
    {
      "cell_type": "markdown",
      "source": [
        "# Random Numbers\n",
        "\n",
        "---\n"
      ],
      "metadata": {
        "id": "YgIgUlfJPKfV"
      }
    },
    {
      "cell_type": "markdown",
      "source": [
        "###  Generates a list of random integers within a specified range.\n"
      ],
      "metadata": {
        "id": "bSBTJ_8nUwV5"
      }
    },
    {
      "cell_type": "code",
      "execution_count": 23,
      "metadata": {
        "colab": {
          "base_uri": "https://localhost:8080/"
        },
        "id": "TbVoe9MQJmMB",
        "outputId": "e045928c-4ed9-41f5-e2c6-80d5943bfc29"
      },
      "outputs": [
        {
          "output_type": "stream",
          "name": "stdout",
          "text": [
            "Generated random numbers:\n",
            "3 2 36 8 56 26 27 63 65 65\n"
          ]
        }
      ],
      "source": [
        "import random\n",
        "\n",
        "def generate_random_numbers(count=10, start=1, end=100):\n",
        "    return [random.randint(start, end) for _ in range(count)]\n",
        "\n",
        "def main():\n",
        "    random_numbers = generate_random_numbers()\n",
        "    print(\"Generated random numbers:\")\n",
        "    print(\" \".join(map(str, random_numbers)))\n",
        "\n",
        "if __name__ == \"__main__\":\n",
        "    main()"
      ]
    }
  ]
}