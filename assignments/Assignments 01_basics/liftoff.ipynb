{
  "nbformat": 4,
  "nbformat_minor": 0,
  "metadata": {
    "colab": {
      "provenance": []
    },
    "kernelspec": {
      "name": "python3",
      "display_name": "Python 3"
    },
    "language_info": {
      "name": "python"
    }
  },
  "cells": [
    {
      "cell_type": "markdown",
      "source": [
        "# The Lift off\n",
        "\n",
        "---"
      ],
      "metadata": {
        "id": "YgIgUlfJPKfV"
      }
    },
    {
      "cell_type": "markdown",
      "source": [
        "### This program performs a countdown from 10 to 1, then prints \"Lift off!\"\n"
      ],
      "metadata": {
        "id": "bSBTJ_8nUwV5"
      }
    },
    {
      "cell_type": "code",
      "execution_count": 14,
      "metadata": {
        "colab": {
          "base_uri": "https://localhost:8080/"
        },
        "id": "TbVoe9MQJmMB",
        "outputId": "91cfa597-c7d9-482e-e5b6-abe98040fbe1"
      },
      "outputs": [
        {
          "output_type": "stream",
          "name": "stdout",
          "text": [
            "Starting countdown sequence...\n",
            "\n",
            "10...\n",
            "9...\n",
            "8...\n",
            "7...\n",
            "6...\n",
            "5...\n",
            "4...\n",
            "3...\n",
            "2...\n",
            "1...\n",
            "\n",
            "🔥🔥🔥 LIFTOFF! 🔥🔥🔥\n",
            "   /\\ \n",
            "  /  \\ \n",
            " /____\\ \n",
            "  |  |  \n",
            "  |  |  \n",
            "  |  |  \n",
            "  |  |  \n",
            " /|  |\\  \n",
            "/ |  | \\ \n",
            "  🔥🔥  \n"
          ]
        }
      ],
      "source": [
        "import time\n",
        "\n",
        "def countdown():\n",
        "    print(\"Starting countdown sequence...\\n\")\n",
        "\n",
        "    for i in range(10, 0, -1):\n",
        "        print(f\"{i}...\")\n",
        "        time.sleep(1)  # Pause for 1 second between numbers\n",
        "\n",
        "    print(\"\\n🔥🔥🔥 LIFTOFF! 🔥🔥🔥\")\n",
        "    print(\"   /\\ \")\n",
        "    print(\"  /  \\ \")\n",
        "    print(\" /____\\ \")\n",
        "    print(\"  |  |  \")\n",
        "    print(\"  |  |  \")\n",
        "    print(\"  |  |  \")\n",
        "    print(\"  |  |  \")\n",
        "    print(\" /|  |\\  \")\n",
        "    print(\"/ |  | \\ \")\n",
        "    print(\"  🔥🔥  \")\n",
        "\n",
        "if __name__ == '__main__':\n",
        "    countdown()"
      ]
    }
  ]
}